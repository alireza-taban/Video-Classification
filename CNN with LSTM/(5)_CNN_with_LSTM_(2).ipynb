{
 "cells": [
  {
   "cell_type": "markdown",
   "id": "e9b78e3e",
   "metadata": {},
   "source": [
    "# Deep Learning HW4\n",
    "## Alireza Taban - 40105424"
   ]
  },
  {
   "cell_type": "code",
   "execution_count": 1,
   "id": "e6a1f427",
   "metadata": {
    "id": "e6a1f427"
   },
   "outputs": [
    {
     "name": "stdout",
     "output_type": "stream",
     "text": [
      "WARNING:tensorflow:From E:\\Anaconda\\Lib\\site-packages\\keras\\src\\losses.py:2976: The name tf.losses.sparse_softmax_cross_entropy is deprecated. Please use tf.compat.v1.losses.sparse_softmax_cross_entropy instead.\n",
      "\n"
     ]
    }
   ],
   "source": [
    "# Importing all necessary libraries\n",
    "import cv2\n",
    "import os\n",
    "import glob\n",
    "import matplotlib.pyplot as plt\n",
    "import numpy as np\n",
    "import random\n",
    "from tensorflow.keras import layers, models\n",
    "import tensorflow as tf\n",
    "from keras.utils import to_categorical"
   ]
  },
  {
   "cell_type": "code",
   "execution_count": 2,
   "id": "0a6baed4",
   "metadata": {},
   "outputs": [],
   "source": [
    "mySeed = 42\n",
    "np.random.seed(mySeed)\n",
    "random.seed(mySeed)\n",
    "tf.random.set_seed(mySeed)"
   ]
  },
  {
   "cell_type": "code",
   "execution_count": null,
   "id": "om66qL4voGvm",
   "metadata": {
    "id": "om66qL4voGvm"
   },
   "outputs": [],
   "source": [
    "!wget --no-check-certificate -O UCF50.rar https://www.crcv.ucf.edu/data/UCF50.rar\n",
    "!unrar x UCF50.rar\n",
    "!rm -rf UCF50.rar"
   ]
  },
  {
   "cell_type": "code",
   "execution_count": null,
   "id": "H1MRzEVGoGqB",
   "metadata": {
    "id": "H1MRzEVGoGqB"
   },
   "outputs": [],
   "source": [
    "# video_path = \"UCF50\\\\*\\\\*.avi\"\n",
    "video_path = \"/content/UCF50/*/*.avi\"\n",
    "temp = ''\n",
    "for index, video_address in enumerate(sorted(glob.glob(video_path))):\n",
    "    # class_label = video_address.split('\\\\')[1]\n",
    "    # image_name = video_address.split('\\\\')[-1]\n",
    "    class_label = video_address.split('/')[-2]\n",
    "    image_name = video_address.split('/')[-1]\n",
    "    cam = cv2.VideoCapture(video_address)\n",
    "\n",
    "    if class_label != temp:\n",
    "        # path = 'data\\\\'+class_label\n",
    "        path = '/content/data/'+class_label\n",
    "        os.makedirs(path)\n",
    "        video_counter = 0\n",
    "        print ('Extracting ' + class_label + ' video frames...')\n",
    "    temp = class_label\n",
    "    # frames_path = path + '\\\\' + str(video_counter)\n",
    "    frames_path = path + '/' + str(video_counter)\n",
    "    os.makedirs(frames_path)\n",
    "    frame_counter = 0\n",
    "    while(frame_counter<20):\n",
    "\n",
    "        # reading from frame\n",
    "        ret,frame = cam.read()\n",
    "\n",
    "        if ret:\n",
    "            # if video is still left continue creating images\n",
    "            # name = frames_path + '\\\\' + str(frame_counter) + '.jpg'\n",
    "            name = frames_path + '/' + str(frame_counter) + '.jpg'\n",
    "            # writing the extracted images\n",
    "            cv2.imwrite(name, frame)\n",
    "        else:\n",
    "            break\n",
    "\n",
    "        frame_counter += 1\n",
    "    video_counter += 1\n",
    "#     data[class_label] ="
   ]
  },
  {
   "cell_type": "code",
   "execution_count": 4,
   "id": "oX6SLnYUoGlc",
   "metadata": {
    "id": "oX6SLnYUoGlc"
   },
   "outputs": [],
   "source": [
    "labels = dict()\n",
    "# for index, label_address in enumerate(glob.glob(\"data\\\\*\")):\n",
    "for index, label_address in enumerate(sorted(glob.glob(\"/content/data/*\"))):\n",
    "    # l = label_address.split('\\\\')[-1]\n",
    "    l = label_address.split('/')[-1]\n",
    "    labels[l] = index"
   ]
  },
  {
   "cell_type": "code",
   "execution_count": 5,
   "id": "7LkrYkumoGit",
   "metadata": {
    "id": "7LkrYkumoGit"
   },
   "outputs": [],
   "source": [
    "list_of_labels = []\n",
    "count = 0\n",
    "tmp = dict()\n",
    "\n",
    "for i, l in enumerate(labels):\n",
    "  if (count)%10 == 0 and count !=0:\n",
    "    list_of_labels.append(tmp)\n",
    "    tmp = dict()\n",
    "  count += 1\n",
    "  tmp[l] = i%10\n",
    "list_of_labels.append(tmp)"
   ]
  },
  {
   "cell_type": "code",
   "execution_count": 6,
   "id": "Mjlk2vf1oGf0",
   "metadata": {
    "id": "Mjlk2vf1oGf0"
   },
   "outputs": [],
   "source": [
    "x_train_temp = list()\n",
    "y_train_temp = list()\n",
    "x_test_temp = list()\n",
    "y_test_temp = list()"
   ]
  },
  {
   "cell_type": "code",
   "execution_count": 7,
   "id": "hEkscs9XoGdP",
   "metadata": {
    "id": "hEkscs9XoGdP"
   },
   "outputs": [],
   "source": [
    "labels_ = list_of_labels[1]\n",
    "for label in labels_:\n",
    "    # temp_path = 'data\\\\'+ label + '\\\\*'\n",
    "    temp_path = '/content/data/'+ label + '/*'\n",
    "    temp_list = list()\n",
    "    for index, video_address in enumerate(sorted(glob.glob(temp_path))):\n",
    "        # temp_list.append(video_address+'\\\\*.jpg')\n",
    "        temp_list.append(video_address+'/*.jpg')\n",
    "    random.shuffle(temp_list)\n",
    "    temp_len = len(temp_list)\n",
    "    threshold = int(np.floor(.75*temp_len))\n",
    "    x_train_temp.extend(temp_list[:threshold])\n",
    "    temp_label = np.ones(threshold)*labels_[label]\n",
    "    y_train_temp.extend(list(temp_label))\n",
    "    x_test_temp.extend(temp_list[threshold+1:])\n",
    "    temp_label = np.ones(temp_len-threshold-1)*labels_[label]\n",
    "    y_test_temp.extend(list(temp_label))"
   ]
  },
  {
   "cell_type": "code",
   "execution_count": 8,
   "id": "ljuIIUm2oGaa",
   "metadata": {
    "colab": {
     "base_uri": "https://localhost:8080/"
    },
    "id": "ljuIIUm2oGaa",
    "outputId": "8670d607-8e96-441e-d69e-6edc7912e2e2"
   },
   "outputs": [
    {
     "data": {
      "text/plain": [
       "{'GolfSwing': 0,\n",
       " 'HighJump': 1,\n",
       " 'HorseRace': 2,\n",
       " 'HorseRiding': 3,\n",
       " 'HulaHoop': 4,\n",
       " 'JavelinThrow': 5,\n",
       " 'JugglingBalls': 6,\n",
       " 'JumpRope': 7,\n",
       " 'JumpingJack': 8,\n",
       " 'Kayaking': 9}"
      ]
     },
     "execution_count": 8,
     "metadata": {},
     "output_type": "execute_result"
    }
   ],
   "source": [
    "list_of_labels[1]"
   ]
  },
  {
   "cell_type": "code",
   "execution_count": 9,
   "id": "5NnxvzNMoGX1",
   "metadata": {
    "id": "5NnxvzNMoGX1"
   },
   "outputs": [],
   "source": [
    "indices = np.arange(len(x_train_temp))\n",
    "np.random.shuffle(indices)\n",
    "\n",
    "x_train_temp = [x_train_temp[i] for i in indices]\n",
    "y_train_temp = [y_train_temp[i] for i in indices]"
   ]
  },
  {
   "cell_type": "code",
   "execution_count": 10,
   "id": "GMwLv_XCoGUz",
   "metadata": {
    "id": "GMwLv_XCoGUz"
   },
   "outputs": [],
   "source": [
    "x_train = list()\n",
    "y_train = list()\n",
    "x_test = list()\n",
    "y_test = list()"
   ]
  },
  {
   "cell_type": "code",
   "execution_count": 11,
   "id": "jD-xwnjGoGSC",
   "metadata": {
    "id": "jD-xwnjGoGSC"
   },
   "outputs": [],
   "source": [
    "for index, video_address in enumerate(x_train_temp):\n",
    "    for image_address in sorted(glob.glob(video_address), key=lambda x: int(x.split(\"/\")[-1].split(\".\")[0])):\n",
    "        x_train.append(image_address)\n",
    "        y_train.append(y_train_temp[index])\n",
    "\n",
    "del x_train_temp\n",
    "del y_train_temp\n",
    "\n",
    "for index, video_address in enumerate(x_test_temp):\n",
    "    for image_address in sorted(glob.glob(video_address), key=lambda x: int(x.split(\"/\")[-1].split(\".\")[0])):\n",
    "        x_test.append(image_address)\n",
    "        y_test.append(y_test_temp[index])\n",
    "\n",
    "del x_test_temp\n",
    "del y_test_temp"
   ]
  },
  {
   "cell_type": "code",
   "execution_count": 12,
   "id": "eS11OJtVoGPM",
   "metadata": {
    "id": "eS11OJtVoGPM"
   },
   "outputs": [],
   "source": [
    "y_train = np.array(y_train)\n",
    "y_test = np.array(y_test)"
   ]
  },
  {
   "cell_type": "code",
   "execution_count": 13,
   "id": "dpd7RWwJoGMr",
   "metadata": {
    "colab": {
     "base_uri": "https://localhost:8080/"
    },
    "id": "dpd7RWwJoGMr",
    "outputId": "f5df38fc-f805-425e-c37e-5715ba5ac963"
   },
   "outputs": [
    {
     "data": {
      "text/plain": [
       "((20620, 10), (6800, 10))"
      ]
     },
     "execution_count": 13,
     "metadata": {},
     "output_type": "execute_result"
    }
   ],
   "source": [
    "# Convert to one-hot encoding\n",
    "y_train_one_hot = to_categorical(y_train, num_classes=10)\n",
    "y_test_one_hot = to_categorical(y_test, num_classes=10)\n",
    "y_train_one_hot.shape, y_test_one_hot.shape"
   ]
  },
  {
   "cell_type": "code",
   "execution_count": 14,
   "id": "rDMwEl3woctk",
   "metadata": {
    "id": "rDMwEl3woctk"
   },
   "outputs": [],
   "source": [
    "x_temp = []\n",
    "x_test_final = []\n",
    "y_test_final = []\n",
    "cnt = 0\n",
    "\n",
    "for i, x_ in enumerate(x_test):\n",
    "\n",
    "        img = cv2.imread(x_)\n",
    "        img = cv2.resize(img, (100, 100))\n",
    "        img = img/255.\n",
    "\n",
    "        if (i)%20 == 0 and i!=0:\n",
    "          x_temp = np.array(x_temp)\n",
    "          # print(x_temp.shape)\n",
    "          x_test_final.append(x_temp)\n",
    "          x_temp = []\n",
    "          y_test_final.append(y_test_one_hot[i-1])\n",
    "\n",
    "        x_temp.append(img)\n",
    "        # x_batch.append(img)\n",
    "        # cnt += 1\n",
    "x_temp = np.array(x_temp)\n",
    "x_test_final.append(x_temp)\n",
    "y_test_final.append(y_test_one_hot[i-1])\n",
    "        # y_batch = y[i : i + batch_size]\n",
    "x_test_final = np.array(x_test_final)\n",
    "y_test_final = np.array(y_test_final)\n",
    "# print(x_batch.shape)\n",
    "# print(y_batch.shape)\n"
   ]
  },
  {
   "cell_type": "code",
   "execution_count": 15,
   "id": "xVTHawGVocqG",
   "metadata": {
    "colab": {
     "base_uri": "https://localhost:8080/"
    },
    "id": "xVTHawGVocqG",
    "outputId": "243757ef-e3ea-4b8c-f3ae-e6c5258fc01d"
   },
   "outputs": [
    {
     "data": {
      "text/plain": [
       "((340, 20, 100, 100, 3), (340, 10))"
      ]
     },
     "execution_count": 15,
     "metadata": {},
     "output_type": "execute_result"
    }
   ],
   "source": [
    "x_test_final.shape, y_test_final.shape"
   ]
  },
  {
   "cell_type": "code",
   "execution_count": 16,
   "id": "fETE9TQXoGJx",
   "metadata": {
    "id": "fETE9TQXoGJx"
   },
   "outputs": [],
   "source": [
    "def my_generator(x, y, batch_size):\n",
    "\n",
    "    while True:\n",
    "\n",
    "        for i in range(0, len(x), batch_size):\n",
    "            x_temp = []\n",
    "            x_batch = []\n",
    "            y_batch = []\n",
    "            cnt = 0\n",
    "\n",
    "            for j, x_ in enumerate(x[i : i + batch_size]):\n",
    "                img = cv2.imread(x_)\n",
    "                img = cv2.resize(img, (100, 100))\n",
    "                img = img/255.\n",
    "\n",
    "                if (cnt)%20 == 0 and cnt!=0:\n",
    "                  x_temp = np.array(x_temp)\n",
    "                  # print(x_temp.shape)\n",
    "                  x_batch.append(x_temp)\n",
    "                  x_temp = []\n",
    "                  y_batch.append(y[i+j-1])\n",
    "\n",
    "                x_temp.append(img)\n",
    "                # x_batch.append(img)\n",
    "                cnt += 1\n",
    "            x_temp = np.array(x_temp)\n",
    "            x_batch.append(x_temp)\n",
    "            y_batch.append(y[i+j-1])\n",
    "            # y_batch = y[i : i + batch_size]\n",
    "            x_batch = np.array(x_batch)\n",
    "            y_batch = np.array(y_batch)\n",
    "            # print(x_batch.shape)\n",
    "            # print(y_batch.shape)\n",
    "\n",
    "            yield x_batch, y_batch"
   ]
  },
  {
   "cell_type": "code",
   "execution_count": 17,
   "id": "WC-aijggojXM",
   "metadata": {
    "id": "WC-aijggojXM"
   },
   "outputs": [],
   "source": [
    "model = models.Sequential([\n",
    "\n",
    "    layers.Conv3D(32, kernel_size=(3, 3, 3), input_shape=(20, 100, 100, 3), padding='same'),\n",
    "    layers.BatchNormalization(),\n",
    "    layers.Activation('relu'),\n",
    "\n",
    "    layers.MaxPooling3D(pool_size=(1, 2, 2)),\n",
    "\n",
    "    layers.Conv3D(64, kernel_size=(3, 3, 3), padding='same'),\n",
    "    layers.BatchNormalization(),\n",
    "    layers.Activation('relu'),\n",
    "\n",
    "    layers.MaxPooling3D(pool_size=(1, 2, 2)),\n",
    "\n",
    "    layers.Conv3D(64, kernel_size=(3, 3, 3), padding='same'),\n",
    "    layers.BatchNormalization(),\n",
    "    layers.Activation('relu'),\n",
    "\n",
    "    layers.MaxPooling3D(pool_size=(1, 2, 2)),\n",
    "\n",
    "    layers.Conv3D(64, kernel_size=(3, 3, 3), padding='same'),\n",
    "    layers.BatchNormalization(),\n",
    "    layers.Activation('relu'),\n",
    "\n",
    "    layers.MaxPooling3D(pool_size=(1, 2, 2)),\n",
    "\n",
    "    layers.TimeDistributed(layers.Flatten()),\n",
    "\n",
    "    layers.LSTM(16),\n",
    "\n",
    "    layers.Dense(64, activation='relu'),\n",
    "    layers.Dropout(0.45),\n",
    "\n",
    "    layers.Dense(10, activation='softmax')\n",
    "])\n",
    "\n",
    "# Compile the model\n",
    "model.compile(optimizer='adam', loss='categorical_crossentropy', metrics=['accuracy'])"
   ]
  },
  {
   "cell_type": "code",
   "execution_count": 18,
   "id": "DwjpQG-kojQa",
   "metadata": {
    "colab": {
     "base_uri": "https://localhost:8080/"
    },
    "id": "DwjpQG-kojQa",
    "outputId": "30742815-29a6-4975-e235-79e1d67b4b22"
   },
   "outputs": [
    {
     "name": "stdout",
     "output_type": "stream",
     "text": [
      "Model: \"sequential\"\n",
      "_________________________________________________________________\n",
      " Layer (type)                Output Shape              Param #   \n",
      "=================================================================\n",
      " conv3d (Conv3D)             (None, 20, 100, 100, 32   2624      \n",
      "                             )                                   \n",
      "                                                                 \n",
      " batch_normalization (Batch  (None, 20, 100, 100, 32   128       \n",
      " Normalization)              )                                   \n",
      "                                                                 \n",
      " activation (Activation)     (None, 20, 100, 100, 32   0         \n",
      "                             )                                   \n",
      "                                                                 \n",
      " max_pooling3d (MaxPooling3  (None, 20, 50, 50, 32)    0         \n",
      " D)                                                              \n",
      "                                                                 \n",
      " conv3d_1 (Conv3D)           (None, 20, 50, 50, 64)    55360     \n",
      "                                                                 \n",
      " batch_normalization_1 (Bat  (None, 20, 50, 50, 64)    256       \n",
      " chNormalization)                                                \n",
      "                                                                 \n",
      " activation_1 (Activation)   (None, 20, 50, 50, 64)    0         \n",
      "                                                                 \n",
      " max_pooling3d_1 (MaxPoolin  (None, 20, 25, 25, 64)    0         \n",
      " g3D)                                                            \n",
      "                                                                 \n",
      " conv3d_2 (Conv3D)           (None, 20, 25, 25, 64)    110656    \n",
      "                                                                 \n",
      " batch_normalization_2 (Bat  (None, 20, 25, 25, 64)    256       \n",
      " chNormalization)                                                \n",
      "                                                                 \n",
      " activation_2 (Activation)   (None, 20, 25, 25, 64)    0         \n",
      "                                                                 \n",
      " max_pooling3d_2 (MaxPoolin  (None, 20, 12, 12, 64)    0         \n",
      " g3D)                                                            \n",
      "                                                                 \n",
      " conv3d_3 (Conv3D)           (None, 20, 12, 12, 64)    110656    \n",
      "                                                                 \n",
      " batch_normalization_3 (Bat  (None, 20, 12, 12, 64)    256       \n",
      " chNormalization)                                                \n",
      "                                                                 \n",
      " activation_3 (Activation)   (None, 20, 12, 12, 64)    0         \n",
      "                                                                 \n",
      " max_pooling3d_3 (MaxPoolin  (None, 20, 6, 6, 64)      0         \n",
      " g3D)                                                            \n",
      "                                                                 \n",
      " time_distributed (TimeDist  (None, 20, 2304)          0         \n",
      " ributed)                                                        \n",
      "                                                                 \n",
      " lstm (LSTM)                 (None, 16)                148544    \n",
      "                                                                 \n",
      " dense (Dense)               (None, 64)                1088      \n",
      "                                                                 \n",
      " dropout (Dropout)           (None, 64)                0         \n",
      "                                                                 \n",
      " dense_1 (Dense)             (None, 10)                650       \n",
      "                                                                 \n",
      "=================================================================\n",
      "Total params: 430474 (1.64 MB)\n",
      "Trainable params: 430026 (1.64 MB)\n",
      "Non-trainable params: 448 (1.75 KB)\n",
      "_________________________________________________________________\n"
     ]
    }
   ],
   "source": [
    "model.summary()"
   ]
  },
  {
   "cell_type": "code",
   "execution_count": 19,
   "id": "DnCIx80-ojIV",
   "metadata": {
    "colab": {
     "base_uri": "https://localhost:8080/"
    },
    "id": "DnCIx80-ojIV",
    "outputId": "14da5146-e529-4eac-99ed-9fdac9684d61"
   },
   "outputs": [
    {
     "name": "stdout",
     "output_type": "stream",
     "text": [
      "Epoch 1/40\n",
      "21/21 [==============================] - 69s 2s/step - loss: 2.2926 - accuracy: 0.1319 - val_loss: 2.2922 - val_accuracy: 0.1471\n",
      "Epoch 2/40\n",
      "21/21 [==============================] - 42s 2s/step - loss: 2.2628 - accuracy: 0.1343 - val_loss: 2.2890 - val_accuracy: 0.1618\n",
      "Epoch 3/40\n",
      "21/21 [==============================] - 37s 2s/step - loss: 2.2150 - accuracy: 0.1821 - val_loss: 2.2663 - val_accuracy: 0.1853\n",
      "Epoch 4/40\n",
      "21/21 [==============================] - 36s 2s/step - loss: 2.1447 - accuracy: 0.2319 - val_loss: 2.3745 - val_accuracy: 0.0912\n",
      "Epoch 5/40\n",
      "21/21 [==============================] - 37s 2s/step - loss: 2.0178 - accuracy: 0.3062 - val_loss: 2.3053 - val_accuracy: 0.1765\n",
      "Epoch 6/40\n",
      "21/21 [==============================] - 37s 2s/step - loss: 1.9782 - accuracy: 0.2981 - val_loss: 2.3547 - val_accuracy: 0.1382\n",
      "Epoch 7/40\n",
      "21/21 [==============================] - 37s 2s/step - loss: 1.8728 - accuracy: 0.3581 - val_loss: 2.2565 - val_accuracy: 0.2118\n",
      "Epoch 8/40\n",
      "21/21 [==============================] - 37s 2s/step - loss: 1.7181 - accuracy: 0.4313 - val_loss: 2.3869 - val_accuracy: 0.1618\n",
      "Epoch 9/40\n",
      "21/21 [==============================] - 37s 2s/step - loss: 1.6243 - accuracy: 0.4751 - val_loss: 2.1923 - val_accuracy: 0.2824\n",
      "Epoch 10/40\n",
      "21/21 [==============================] - 38s 2s/step - loss: 1.4512 - accuracy: 0.5473 - val_loss: 2.1393 - val_accuracy: 0.3118\n",
      "Epoch 11/40\n",
      "21/21 [==============================] - 36s 2s/step - loss: 1.3429 - accuracy: 0.5870 - val_loss: 1.9455 - val_accuracy: 0.3471\n",
      "Epoch 12/40\n",
      "21/21 [==============================] - 37s 2s/step - loss: 1.2219 - accuracy: 0.6175 - val_loss: 1.9096 - val_accuracy: 0.3500\n",
      "Epoch 13/40\n",
      "21/21 [==============================] - 38s 2s/step - loss: 1.0978 - accuracy: 0.6765 - val_loss: 1.5439 - val_accuracy: 0.4676\n",
      "Epoch 14/40\n",
      "21/21 [==============================] - 37s 2s/step - loss: 0.9919 - accuracy: 0.6999 - val_loss: 1.3993 - val_accuracy: 0.5294\n",
      "Epoch 15/40\n",
      "21/21 [==============================] - 37s 2s/step - loss: 0.8576 - accuracy: 0.7487 - val_loss: 1.2787 - val_accuracy: 0.5588\n",
      "Epoch 16/40\n",
      "21/21 [==============================] - 37s 2s/step - loss: 0.7727 - accuracy: 0.7742 - val_loss: 2.2957 - val_accuracy: 0.2941\n",
      "Epoch 17/40\n",
      "21/21 [==============================] - 38s 2s/step - loss: 0.6991 - accuracy: 0.8047 - val_loss: 1.0239 - val_accuracy: 0.6500\n",
      "Epoch 18/40\n",
      "21/21 [==============================] - 36s 2s/step - loss: 0.6215 - accuracy: 0.8291 - val_loss: 1.1902 - val_accuracy: 0.6265\n",
      "Epoch 19/40\n",
      "21/21 [==============================] - 37s 2s/step - loss: 0.5897 - accuracy: 0.8352 - val_loss: 1.1196 - val_accuracy: 0.6618\n",
      "Epoch 20/40\n",
      "21/21 [==============================] - 38s 2s/step - loss: 0.5224 - accuracy: 0.8576 - val_loss: 1.1571 - val_accuracy: 0.5853\n",
      "Epoch 21/40\n",
      "21/21 [==============================] - 36s 2s/step - loss: 0.4122 - accuracy: 0.8952 - val_loss: 0.9990 - val_accuracy: 0.6647\n",
      "Epoch 22/40\n",
      "21/21 [==============================] - 37s 2s/step - loss: 0.4382 - accuracy: 0.8800 - val_loss: 1.1700 - val_accuracy: 0.6441\n",
      "Epoch 23/40\n",
      "21/21 [==============================] - 38s 2s/step - loss: 0.4606 - accuracy: 0.8780 - val_loss: 1.2444 - val_accuracy: 0.6000\n",
      "Epoch 24/40\n",
      "21/21 [==============================] - 37s 2s/step - loss: 0.4062 - accuracy: 0.8891 - val_loss: 1.0407 - val_accuracy: 0.6912\n",
      "Epoch 25/40\n",
      "21/21 [==============================] - 36s 2s/step - loss: 0.3817 - accuracy: 0.8932 - val_loss: 0.8204 - val_accuracy: 0.7353\n",
      "Epoch 26/40\n",
      "21/21 [==============================] - 37s 2s/step - loss: 0.3426 - accuracy: 0.9166 - val_loss: 1.6956 - val_accuracy: 0.5441\n",
      "Epoch 27/40\n",
      "21/21 [==============================] - 37s 2s/step - loss: 0.2966 - accuracy: 0.9349 - val_loss: 0.7365 - val_accuracy: 0.7500\n",
      "Epoch 28/40\n",
      "21/21 [==============================] - 36s 2s/step - loss: 0.2580 - accuracy: 0.9420 - val_loss: 1.0922 - val_accuracy: 0.6588\n",
      "Epoch 29/40\n",
      "21/21 [==============================] - 37s 2s/step - loss: 0.2437 - accuracy: 0.9359 - val_loss: 0.9269 - val_accuracy: 0.7412\n",
      "Epoch 30/40\n",
      "21/21 [==============================] - 37s 2s/step - loss: 0.2065 - accuracy: 0.9502 - val_loss: 0.6290 - val_accuracy: 0.7971\n",
      "Epoch 31/40\n",
      "21/21 [==============================] - 37s 2s/step - loss: 0.2052 - accuracy: 0.9593 - val_loss: 0.6497 - val_accuracy: 0.8000\n",
      "Epoch 32/40\n",
      "21/21 [==============================] - 37s 2s/step - loss: 0.1732 - accuracy: 0.9695 - val_loss: 0.5528 - val_accuracy: 0.8206\n",
      "Epoch 33/40\n",
      "21/21 [==============================] - 37s 2s/step - loss: 0.1587 - accuracy: 0.9695 - val_loss: 0.5822 - val_accuracy: 0.8324\n",
      "Epoch 34/40\n",
      "21/21 [==============================] - 37s 2s/step - loss: 0.1668 - accuracy: 0.9644 - val_loss: 0.6099 - val_accuracy: 0.8176\n",
      "Epoch 35/40\n",
      "21/21 [==============================] - 37s 2s/step - loss: 0.1510 - accuracy: 0.9644 - val_loss: 0.5519 - val_accuracy: 0.8382\n",
      "Epoch 36/40\n",
      "21/21 [==============================] - 37s 2s/step - loss: 0.1728 - accuracy: 0.9573 - val_loss: 0.6143 - val_accuracy: 0.8088\n",
      "Epoch 37/40\n",
      "21/21 [==============================] - 37s 2s/step - loss: 0.1454 - accuracy: 0.9736 - val_loss: 0.6555 - val_accuracy: 0.8206\n",
      "Epoch 38/40\n",
      "21/21 [==============================] - 37s 2s/step - loss: 0.1263 - accuracy: 0.9766 - val_loss: 0.5692 - val_accuracy: 0.8265\n",
      "Epoch 39/40\n",
      "21/21 [==============================] - 36s 2s/step - loss: 0.1097 - accuracy: 0.9807 - val_loss: 0.8197 - val_accuracy: 0.7824\n",
      "Epoch 40/40\n",
      "21/21 [==============================] - 37s 2s/step - loss: 0.0879 - accuracy: 0.9878 - val_loss: 0.6724 - val_accuracy: 0.8206\n"
     ]
    }
   ],
   "source": [
    "hist = model.fit(my_generator(x_train, y_train_one_hot, 960), steps_per_epoch=len(x_train)//960, epochs=40, validation_data=(x_test_final, y_test_final)) # 10-19"
   ]
  },
  {
   "cell_type": "code",
   "execution_count": 20,
   "id": "Hd12SJnloGGc",
   "metadata": {
    "colab": {
     "base_uri": "https://localhost:8080/",
     "height": 455
    },
    "id": "Hd12SJnloGGc",
    "outputId": "830ec49d-6c21-432d-826c-1c279431eed6"
   },
   "outputs": [
    {
     "data": {
      "image/png": "[encoded data removed]",
      "text/plain": [
       "<Figure size 640x480 with 1 Axes>"
      ]
     },
     "metadata": {},
     "output_type": "display_data"
    }
   ],
   "source": [
    "# Plotting the loss value during training\n",
    "plt.plot(hist.history[\"loss\"], label=\"loss\")\n",
    "plt.plot(hist.history[\"val_loss\"], label=\"val_loss\")\n",
    "plt.xlabel(\"epochs\")\n",
    "plt.ylabel(\"CrossEntropy error\")\n",
    "plt.legend()\n",
    "plt.show()"
   ]
  },
  {
   "cell_type": "code",
   "execution_count": 21,
   "id": "rRKei08WoF-b",
   "metadata": {
    "colab": {
     "base_uri": "https://localhost:8080/",
     "height": 449
    },
    "id": "rRKei08WoF-b",
    "outputId": "ef362d15-aa4c-4ebb-f0c3-bc2183f8bbf8"
   },
   "outputs": [
    {
     "data": {
      "image/png": "[encoded data removed]",
      "text/plain": [
       "<Figure size 640x480 with 1 Axes>"
      ]
     },
     "metadata": {},
     "output_type": "display_data"
    }
   ],
   "source": [
    "# Plotting the MAE value during training\n",
    "plt.plot(hist.history[\"accuracy\"], label=\"accuracy\")\n",
    "plt.plot(hist.history[\"val_accuracy\"], label=\"val_accuracy\")\n",
    "plt.xlabel(\"epochs\")\n",
    "plt.ylabel(\"Accuracy\")\n",
    "plt.legend()\n",
    "plt.show()"
   ]
  },
  {
   "cell_type": "code",
   "execution_count": null,
   "id": "_YUW7fEBbGng",
   "metadata": {
    "id": "_YUW7fEBbGng"
   },
   "outputs": [],
   "source": []
  }
 ],
 "metadata": {
  "accelerator": "GPU",
  "colab": {
   "gpuType": "T4",
   "provenance": []
  },
  "kernelspec": {
   "display_name": "Python 3 (ipykernel)",
   "language": "python",
   "name": "python3"
  },
  "language_info": {
   "codemirror_mode": {
    "name": "ipython",
    "version": 3
   },
   "file_extension": ".py",
   "mimetype": "text/x-python",
   "name": "python",
   "nbconvert_exporter": "python",
   "pygments_lexer": "ipython3",
   "version": "3.11.5"
  }
 },
 "nbformat": 4,
 "nbformat_minor": 5
}
