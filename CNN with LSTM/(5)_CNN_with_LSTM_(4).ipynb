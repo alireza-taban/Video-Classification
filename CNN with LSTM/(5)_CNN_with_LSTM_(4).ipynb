{
 "cells": [
  {
   "cell_type": "markdown",
   "metadata": {},
   "source": [
    "# Deep Learning HW4\n",
    "## Alireza Taban - 40105424"
   ]
  },
  {
   "cell_type": "code",
   "execution_count": 1,
   "metadata": {
    "id": "g9ImWsV7-eDJ"
   },
   "outputs": [
    {
     "name": "stdout",
     "output_type": "stream",
     "text": [
      "WARNING:tensorflow:From E:\\Anaconda\\Lib\\site-packages\\keras\\src\\losses.py:2976: The name tf.losses.sparse_softmax_cross_entropy is deprecated. Please use tf.compat.v1.losses.sparse_softmax_cross_entropy instead.\n",
      "\n"
     ]
    }
   ],
   "source": [
    "# Importing all necessary libraries\n",
    "import cv2\n",
    "import os\n",
    "import glob\n",
    "import matplotlib.pyplot as plt\n",
    "import numpy as np\n",
    "import random\n",
    "from tensorflow.keras import layers, models\n",
    "import tensorflow as tf\n",
    "from keras.utils import to_categorical"
   ]
  },
  {
   "cell_type": "code",
   "execution_count": 2,
   "metadata": {},
   "outputs": [],
   "source": [
    "mySeed = 42\n",
    "np.random.seed(mySeed)\n",
    "random.seed(mySeed)\n",
    "tf.random.set_seed(mySeed)"
   ]
  },
  {
   "cell_type": "code",
   "execution_count": null,
   "metadata": {
    "id": "w15KZEoD-lhH"
   },
   "outputs": [],
   "source": [
    "!wget --no-check-certificate -O UCF50.rar https://www.crcv.ucf.edu/data/UCF50.rar\n",
    "!unrar x UCF50.rar\n",
    "!rm -rf UCF50.rar"
   ]
  },
  {
   "cell_type": "code",
   "execution_count": null,
   "metadata": {
    "id": "4b631eMb-leI"
   },
   "outputs": [],
   "source": [
    "# video_path = \"UCF50\\\\*\\\\*.avi\"\n",
    "video_path = \"/content/UCF50/*/*.avi\"\n",
    "temp = ''\n",
    "for index, video_address in enumerate(sorted(glob.glob(video_path))):\n",
    "    # class_label = video_address.split('\\\\')[1]\n",
    "    # image_name = video_address.split('\\\\')[-1]\n",
    "    class_label = video_address.split('/')[-2]\n",
    "    image_name = video_address.split('/')[-1]\n",
    "    cam = cv2.VideoCapture(video_address)\n",
    "\n",
    "    if class_label != temp:\n",
    "        # path = 'data\\\\'+class_label\n",
    "        path = '/content/data/'+class_label\n",
    "        os.makedirs(path)\n",
    "        video_counter = 0\n",
    "        print ('Extracting ' + class_label + ' video frames...')\n",
    "    temp = class_label\n",
    "    # frames_path = path + '\\\\' + str(video_counter)\n",
    "    frames_path = path + '/' + str(video_counter)\n",
    "    os.makedirs(frames_path)\n",
    "    frame_counter = 0\n",
    "    while(frame_counter<20):\n",
    "\n",
    "        # reading from frame\n",
    "        ret,frame = cam.read()\n",
    "\n",
    "        if ret:\n",
    "            # if video is still left continue creating images\n",
    "            # name = frames_path + '\\\\' + str(frame_counter) + '.jpg'\n",
    "            name = frames_path + '/' + str(frame_counter) + '.jpg'\n",
    "            # writing the extracted images\n",
    "            cv2.imwrite(name, frame)\n",
    "        else:\n",
    "            break\n",
    "\n",
    "        frame_counter += 1\n",
    "    video_counter += 1\n",
    "#     data[class_label] ="
   ]
  },
  {
   "cell_type": "code",
   "execution_count": 2,
   "metadata": {
    "id": "W_7mpGDO-lbm"
   },
   "outputs": [],
   "source": [
    "labels = dict()\n",
    "# for index, label_address in enumerate(glob.glob(\"data\\\\*\")):\n",
    "for index, label_address in enumerate(sorted(glob.glob(\"/content/data/*\"))):\n",
    "    # l = label_address.split('\\\\')[-1]\n",
    "    l = label_address.split('/')[-1]\n",
    "    labels[l] = index"
   ]
  },
  {
   "cell_type": "code",
   "execution_count": 3,
   "metadata": {
    "id": "4iqdATnQ-lYi"
   },
   "outputs": [],
   "source": [
    "list_of_labels = []\n",
    "count = 0\n",
    "tmp = dict()\n",
    "\n",
    "for i, l in enumerate(labels):\n",
    "  if (count)%10 == 0 and count !=0:\n",
    "    list_of_labels.append(tmp)\n",
    "    tmp = dict()\n",
    "  count += 1\n",
    "  tmp[l] = i%10\n",
    "list_of_labels.append(tmp)"
   ]
  },
  {
   "cell_type": "code",
   "execution_count": 4,
   "metadata": {
    "id": "0iAJcWcE-lU7"
   },
   "outputs": [],
   "source": [
    "x_train_temp = list()\n",
    "y_train_temp = list()\n",
    "x_test_temp = list()\n",
    "y_test_temp = list()"
   ]
  },
  {
   "cell_type": "code",
   "execution_count": 5,
   "metadata": {
    "id": "-ZECRSaB-lR2"
   },
   "outputs": [],
   "source": [
    "labels_ = list_of_labels[3]\n",
    "for label in labels_:\n",
    "    # temp_path = 'data\\\\'+ label + '\\\\*'\n",
    "    temp_path = '/content/data/'+ label + '/*'\n",
    "    temp_list = list()\n",
    "    for index, video_address in enumerate(sorted(glob.glob(temp_path))):\n",
    "        # temp_list.append(video_address+'\\\\*.jpg')\n",
    "        temp_list.append(video_address+'/*.jpg')\n",
    "    random.shuffle(temp_list)\n",
    "    temp_len = len(temp_list)\n",
    "    threshold = int(np.floor(.75*temp_len))\n",
    "    x_train_temp.extend(temp_list[:threshold])\n",
    "    temp_label = np.ones(threshold)*labels_[label]\n",
    "    y_train_temp.extend(list(temp_label))\n",
    "    x_test_temp.extend(temp_list[threshold+1:])\n",
    "    temp_label = np.ones(temp_len-threshold-1)*labels_[label]\n",
    "    y_test_temp.extend(list(temp_label))"
   ]
  },
  {
   "cell_type": "code",
   "execution_count": 6,
   "metadata": {
    "colab": {
     "base_uri": "https://localhost:8080/"
    },
    "id": "CyQfiZGe-lO0",
    "outputId": "ed3559d1-87dc-421c-cd26-652a296c7aed"
   },
   "outputs": [
    {
     "data": {
      "text/plain": [
       "{'PommelHorse': 0,\n",
       " 'PullUps': 1,\n",
       " 'Punch': 2,\n",
       " 'PushUps': 3,\n",
       " 'RockClimbingIndoor': 4,\n",
       " 'RopeClimbing': 5,\n",
       " 'Rowing': 6,\n",
       " 'SalsaSpin': 7,\n",
       " 'SkateBoarding': 8,\n",
       " 'Skiing': 9}"
      ]
     },
     "execution_count": 6,
     "metadata": {},
     "output_type": "execute_result"
    }
   ],
   "source": [
    "list_of_labels[3]"
   ]
  },
  {
   "cell_type": "code",
   "execution_count": 7,
   "metadata": {
    "id": "__whvB7Y-lLW"
   },
   "outputs": [],
   "source": [
    "indices = np.arange(len(x_train_temp))\n",
    "np.random.shuffle(indices)\n",
    "\n",
    "x_train_temp = [x_train_temp[i] for i in indices]\n",
    "y_train_temp = [y_train_temp[i] for i in indices]"
   ]
  },
  {
   "cell_type": "code",
   "execution_count": 8,
   "metadata": {
    "id": "AYn0MoA1-lI6"
   },
   "outputs": [],
   "source": [
    "x_train = list()\n",
    "y_train = list()\n",
    "x_test = list()\n",
    "y_test = list()"
   ]
  },
  {
   "cell_type": "code",
   "execution_count": 9,
   "metadata": {
    "id": "8uRfbU60-lGR"
   },
   "outputs": [],
   "source": [
    "for index, video_address in enumerate(x_train_temp):\n",
    "    for image_address in sorted(glob.glob(video_address), key=lambda x: int(x.split(\"/\")[-1].split(\".\")[0])):\n",
    "        x_train.append(image_address)\n",
    "        y_train.append(y_train_temp[index])\n",
    "\n",
    "del x_train_temp\n",
    "del y_train_temp\n",
    "\n",
    "for index, video_address in enumerate(x_test_temp):\n",
    "    for image_address in sorted(glob.glob(video_address), key=lambda x: int(x.split(\"/\")[-1].split(\".\")[0])):\n",
    "        x_test.append(image_address)\n",
    "        y_test.append(y_test_temp[index])\n",
    "\n",
    "del x_test_temp\n",
    "del y_test_temp"
   ]
  },
  {
   "cell_type": "code",
   "execution_count": 10,
   "metadata": {
    "id": "XosN9zjw-lDo"
   },
   "outputs": [],
   "source": [
    "y_train = np.array(y_train)\n",
    "y_test = np.array(y_test)"
   ]
  },
  {
   "cell_type": "code",
   "execution_count": 11,
   "metadata": {
    "colab": {
     "base_uri": "https://localhost:8080/"
    },
    "id": "W21eL6Mf-lAy",
    "outputId": "14e6fce3-adf8-429e-93a7-ff69bca87394"
   },
   "outputs": [
    {
     "data": {
      "text/plain": [
       "((19760, 10), (6460, 10))"
      ]
     },
     "execution_count": 11,
     "metadata": {},
     "output_type": "execute_result"
    }
   ],
   "source": [
    "# Convert to one-hot encoding\n",
    "y_train_one_hot = to_categorical(y_train, num_classes=10)\n",
    "y_test_one_hot = to_categorical(y_test, num_classes=10)\n",
    "y_train_one_hot.shape, y_test_one_hot.shape"
   ]
  },
  {
   "cell_type": "code",
   "execution_count": 12,
   "metadata": {
    "id": "SxeeZ_7s-k-M"
   },
   "outputs": [],
   "source": [
    "x_temp = []\n",
    "x_test_final = []\n",
    "y_test_final = []\n",
    "cnt = 0\n",
    "\n",
    "for i, x_ in enumerate(x_test):\n",
    "\n",
    "        img = cv2.imread(x_)\n",
    "        img = cv2.resize(img, (100, 100))\n",
    "        img = img/255.\n",
    "\n",
    "        if (i)%20 == 0 and i!=0:\n",
    "          x_temp = np.array(x_temp)\n",
    "          # print(x_temp.shape)\n",
    "          x_test_final.append(x_temp)\n",
    "          x_temp = []\n",
    "          y_test_final.append(y_test_one_hot[i-1])\n",
    "\n",
    "        x_temp.append(img)\n",
    "        # x_batch.append(img)\n",
    "        # cnt += 1\n",
    "x_temp = np.array(x_temp)\n",
    "x_test_final.append(x_temp)\n",
    "y_test_final.append(y_test_one_hot[i-1])\n",
    "        # y_batch = y[i : i + batch_size]\n",
    "x_test_final = np.array(x_test_final)\n",
    "y_test_final = np.array(y_test_final)\n",
    "# print(x_batch.shape)\n",
    "# print(y_batch.shape)\n"
   ]
  },
  {
   "cell_type": "code",
   "execution_count": 13,
   "metadata": {
    "colab": {
     "base_uri": "https://localhost:8080/"
    },
    "id": "Xr2lipId-k7i",
    "outputId": "ef3de971-2ad7-46e0-9fd1-ca520851b01c"
   },
   "outputs": [
    {
     "data": {
      "text/plain": [
       "((323, 20, 100, 100, 3), (323, 10))"
      ]
     },
     "execution_count": 13,
     "metadata": {},
     "output_type": "execute_result"
    }
   ],
   "source": [
    "x_test_final.shape, y_test_final.shape"
   ]
  },
  {
   "cell_type": "code",
   "execution_count": 14,
   "metadata": {
    "id": "1cyin4Ot-k5A"
   },
   "outputs": [],
   "source": [
    "def my_generator(x, y, batch_size):\n",
    "\n",
    "    while True:\n",
    "\n",
    "        for i in range(0, len(x), batch_size):\n",
    "            x_temp = []\n",
    "            x_batch = []\n",
    "            y_batch = []\n",
    "            cnt = 0\n",
    "\n",
    "            for j, x_ in enumerate(x[i : i + batch_size]):\n",
    "                img = cv2.imread(x_)\n",
    "                img = cv2.resize(img, (100, 100))\n",
    "                img = img/255.\n",
    "\n",
    "                if (cnt)%20 == 0 and cnt!=0:\n",
    "                  x_temp = np.array(x_temp)\n",
    "                  # print(x_temp.shape)\n",
    "                  x_batch.append(x_temp)\n",
    "                  x_temp = []\n",
    "                  y_batch.append(y[i+j-1])\n",
    "\n",
    "                x_temp.append(img)\n",
    "                # x_batch.append(img)\n",
    "                cnt += 1\n",
    "            x_temp = np.array(x_temp)\n",
    "            x_batch.append(x_temp)\n",
    "            y_batch.append(y[i+j-1])\n",
    "            # y_batch = y[i : i + batch_size]\n",
    "            x_batch = np.array(x_batch)\n",
    "            y_batch = np.array(y_batch)\n",
    "            # print(x_batch.shape)\n",
    "            # print(y_batch.shape)\n",
    "\n",
    "            yield x_batch, y_batch"
   ]
  },
  {
   "cell_type": "code",
   "execution_count": 15,
   "metadata": {
    "id": "8Gn8l_Tg-_sU"
   },
   "outputs": [],
   "source": [
    "model = models.Sequential([\n",
    "\n",
    "    layers.Conv3D(32, kernel_size=(3, 3, 3), input_shape=(20, 100, 100, 3), padding='same'),\n",
    "    layers.BatchNormalization(),\n",
    "    layers.Activation('relu'),\n",
    "\n",
    "    layers.MaxPooling3D(pool_size=(1, 2, 2)),\n",
    "\n",
    "    layers.Conv3D(64, kernel_size=(3, 3, 3), padding='same'),\n",
    "    layers.BatchNormalization(),\n",
    "    layers.Activation('relu'),\n",
    "\n",
    "    layers.MaxPooling3D(pool_size=(1, 2, 2)),\n",
    "\n",
    "    layers.Conv3D(64, kernel_size=(3, 3, 3), padding='same'),\n",
    "    layers.BatchNormalization(),\n",
    "    layers.Activation('relu'),\n",
    "\n",
    "    layers.MaxPooling3D(pool_size=(1, 2, 2)),\n",
    "\n",
    "    layers.Conv3D(64, kernel_size=(3, 3, 3), padding='same'),\n",
    "    layers.BatchNormalization(),\n",
    "    layers.Activation('relu'),\n",
    "\n",
    "    layers.MaxPooling3D(pool_size=(1, 2, 2)),\n",
    "\n",
    "    layers.TimeDistributed(layers.Flatten()),\n",
    "\n",
    "    layers.LSTM(16),\n",
    "\n",
    "    layers.Dense(64, activation='relu'),\n",
    "    layers.Dropout(0.45),\n",
    "\n",
    "    layers.Dense(10, activation='softmax')\n",
    "])\n",
    "\n",
    "# Compile the model\n",
    "model.compile(optimizer='adam', loss='categorical_crossentropy', metrics=['accuracy'])"
   ]
  },
  {
   "cell_type": "code",
   "execution_count": 16,
   "metadata": {
    "colab": {
     "base_uri": "https://localhost:8080/"
    },
    "id": "kniuCbcD-_k2",
    "outputId": "ea601bd4-73f8-4107-f45a-0c133176f85c"
   },
   "outputs": [
    {
     "name": "stdout",
     "output_type": "stream",
     "text": [
      "Model: \"sequential\"\n",
      "_________________________________________________________________\n",
      " Layer (type)                Output Shape              Param #   \n",
      "=================================================================\n",
      " conv3d (Conv3D)             (None, 20, 100, 100, 32   2624      \n",
      "                             )                                   \n",
      "                                                                 \n",
      " batch_normalization (Batch  (None, 20, 100, 100, 32   128       \n",
      " Normalization)              )                                   \n",
      "                                                                 \n",
      " activation (Activation)     (None, 20, 100, 100, 32   0         \n",
      "                             )                                   \n",
      "                                                                 \n",
      " max_pooling3d (MaxPooling3  (None, 20, 50, 50, 32)    0         \n",
      " D)                                                              \n",
      "                                                                 \n",
      " conv3d_1 (Conv3D)           (None, 20, 50, 50, 64)    55360     \n",
      "                                                                 \n",
      " batch_normalization_1 (Bat  (None, 20, 50, 50, 64)    256       \n",
      " chNormalization)                                                \n",
      "                                                                 \n",
      " activation_1 (Activation)   (None, 20, 50, 50, 64)    0         \n",
      "                                                                 \n",
      " max_pooling3d_1 (MaxPoolin  (None, 20, 25, 25, 64)    0         \n",
      " g3D)                                                            \n",
      "                                                                 \n",
      " conv3d_2 (Conv3D)           (None, 20, 25, 25, 64)    110656    \n",
      "                                                                 \n",
      " batch_normalization_2 (Bat  (None, 20, 25, 25, 64)    256       \n",
      " chNormalization)                                                \n",
      "                                                                 \n",
      " activation_2 (Activation)   (None, 20, 25, 25, 64)    0         \n",
      "                                                                 \n",
      " max_pooling3d_2 (MaxPoolin  (None, 20, 12, 12, 64)    0         \n",
      " g3D)                                                            \n",
      "                                                                 \n",
      " conv3d_3 (Conv3D)           (None, 20, 12, 12, 64)    110656    \n",
      "                                                                 \n",
      " batch_normalization_3 (Bat  (None, 20, 12, 12, 64)    256       \n",
      " chNormalization)                                                \n",
      "                                                                 \n",
      " activation_3 (Activation)   (None, 20, 12, 12, 64)    0         \n",
      "                                                                 \n",
      " max_pooling3d_3 (MaxPoolin  (None, 20, 6, 6, 64)      0         \n",
      " g3D)                                                            \n",
      "                                                                 \n",
      " time_distributed (TimeDist  (None, 20, 2304)          0         \n",
      " ributed)                                                        \n",
      "                                                                 \n",
      " lstm (LSTM)                 (None, 16)                148544    \n",
      "                                                                 \n",
      " dense (Dense)               (None, 64)                1088      \n",
      "                                                                 \n",
      " dropout (Dropout)           (None, 64)                0         \n",
      "                                                                 \n",
      " dense_1 (Dense)             (None, 10)                650       \n",
      "                                                                 \n",
      "=================================================================\n",
      "Total params: 430474 (1.64 MB)\n",
      "Trainable params: 430026 (1.64 MB)\n",
      "Non-trainable params: 448 (1.75 KB)\n",
      "_________________________________________________________________\n"
     ]
    }
   ],
   "source": [
    "model.summary()"
   ]
  },
  {
   "cell_type": "code",
   "execution_count": 19,
   "metadata": {
    "colab": {
     "base_uri": "https://localhost:8080/"
    },
    "id": "Sooqz6U1-k2F",
    "outputId": "44390992-5f3a-4425-f2e0-98ffb0ec55a3"
   },
   "outputs": [
    {
     "name": "stdout",
     "output_type": "stream",
     "text": [
      "Epoch 1/40\n",
      "20/20 [==============================] - 63s 2s/step - loss: 2.3002 - accuracy: 0.1083 - val_loss: 2.2985 - val_accuracy: 0.1115\n",
      "Epoch 2/40\n",
      "20/20 [==============================] - 42s 2s/step - loss: 2.2572 - accuracy: 0.1277 - val_loss: 2.2850 - val_accuracy: 0.1672\n",
      "Epoch 3/40\n",
      "20/20 [==============================] - 36s 2s/step - loss: 2.2199 - accuracy: 0.1798 - val_loss: 2.2719 - val_accuracy: 0.1579\n",
      "Epoch 4/40\n",
      "20/20 [==============================] - 38s 2s/step - loss: 2.1885 - accuracy: 0.1915 - val_loss: 2.2573 - val_accuracy: 0.1517\n",
      "Epoch 5/40\n",
      "20/20 [==============================] - 35s 2s/step - loss: 2.1409 - accuracy: 0.1872 - val_loss: 2.2481 - val_accuracy: 0.1641\n",
      "Epoch 6/40\n",
      "20/20 [==============================] - 36s 2s/step - loss: 2.0811 - accuracy: 0.2330 - val_loss: 2.2559 - val_accuracy: 0.1486\n",
      "Epoch 7/40\n",
      "20/20 [==============================] - 36s 2s/step - loss: 1.9985 - accuracy: 0.2681 - val_loss: 2.2446 - val_accuracy: 0.1393\n",
      "Epoch 8/40\n",
      "20/20 [==============================] - 36s 2s/step - loss: 1.9070 - accuracy: 0.3085 - val_loss: 2.5113 - val_accuracy: 0.1115\n",
      "Epoch 9/40\n",
      "20/20 [==============================] - 36s 2s/step - loss: 1.8254 - accuracy: 0.3319 - val_loss: 2.5268 - val_accuracy: 0.1084\n",
      "Epoch 10/40\n",
      "20/20 [==============================] - 36s 2s/step - loss: 1.7826 - accuracy: 0.3638 - val_loss: 1.9055 - val_accuracy: 0.3467\n",
      "Epoch 11/40\n",
      "20/20 [==============================] - 36s 2s/step - loss: 1.6924 - accuracy: 0.3872 - val_loss: 1.6564 - val_accuracy: 0.4180\n",
      "Epoch 12/40\n",
      "20/20 [==============================] - 36s 2s/step - loss: 1.5753 - accuracy: 0.4426 - val_loss: 1.6841 - val_accuracy: 0.4365\n",
      "Epoch 13/40\n",
      "20/20 [==============================] - 35s 2s/step - loss: 1.5071 - accuracy: 0.4766 - val_loss: 1.6346 - val_accuracy: 0.4334\n",
      "Epoch 14/40\n",
      "20/20 [==============================] - 36s 2s/step - loss: 1.4240 - accuracy: 0.5000 - val_loss: 2.0321 - val_accuracy: 0.3189\n",
      "Epoch 15/40\n",
      "20/20 [==============================] - 36s 2s/step - loss: 1.3135 - accuracy: 0.5521 - val_loss: 1.4108 - val_accuracy: 0.5882\n",
      "Epoch 16/40\n",
      "20/20 [==============================] - 37s 2s/step - loss: 1.1859 - accuracy: 0.6351 - val_loss: 1.6174 - val_accuracy: 0.4768\n",
      "Epoch 17/40\n",
      "20/20 [==============================] - 37s 2s/step - loss: 1.1029 - accuracy: 0.6606 - val_loss: 1.4586 - val_accuracy: 0.5759\n",
      "Epoch 18/40\n",
      "20/20 [==============================] - 35s 2s/step - loss: 1.0621 - accuracy: 0.6468 - val_loss: 1.5459 - val_accuracy: 0.4985\n",
      "Epoch 19/40\n",
      "20/20 [==============================] - 37s 2s/step - loss: 0.9398 - accuracy: 0.7202 - val_loss: 1.2995 - val_accuracy: 0.6378\n",
      "Epoch 20/40\n",
      "20/20 [==============================] - 36s 2s/step - loss: 0.9159 - accuracy: 0.7298 - val_loss: 1.0321 - val_accuracy: 0.6966\n",
      "Epoch 21/40\n",
      "20/20 [==============================] - 35s 2s/step - loss: 0.7835 - accuracy: 0.7691 - val_loss: 1.1114 - val_accuracy: 0.6687\n",
      "Epoch 22/40\n",
      "20/20 [==============================] - 37s 2s/step - loss: 0.7596 - accuracy: 0.7792 - val_loss: 0.9544 - val_accuracy: 0.7183\n",
      "Epoch 23/40\n",
      "20/20 [==============================] - 36s 2s/step - loss: 0.6570 - accuracy: 0.8266 - val_loss: 1.2495 - val_accuracy: 0.6068\n",
      "Epoch 24/40\n",
      "20/20 [==============================] - 37s 2s/step - loss: 0.6036 - accuracy: 0.8479 - val_loss: 0.9836 - val_accuracy: 0.7183\n",
      "Epoch 25/40\n",
      "20/20 [==============================] - 36s 2s/step - loss: 0.5351 - accuracy: 0.8628 - val_loss: 0.8930 - val_accuracy: 0.7399\n",
      "Epoch 26/40\n",
      "20/20 [==============================] - 36s 2s/step - loss: 0.4835 - accuracy: 0.8819 - val_loss: 0.9681 - val_accuracy: 0.7121\n",
      "Epoch 27/40\n",
      "20/20 [==============================] - 36s 2s/step - loss: 0.4615 - accuracy: 0.8830 - val_loss: 1.0605 - val_accuracy: 0.6718\n",
      "Epoch 28/40\n",
      "20/20 [==============================] - 37s 2s/step - loss: 0.4285 - accuracy: 0.8947 - val_loss: 1.2532 - val_accuracy: 0.6192\n",
      "Epoch 29/40\n",
      "20/20 [==============================] - 35s 2s/step - loss: 0.4072 - accuracy: 0.8957 - val_loss: 0.9646 - val_accuracy: 0.7121\n",
      "Epoch 30/40\n",
      "20/20 [==============================] - 36s 2s/step - loss: 0.3639 - accuracy: 0.9096 - val_loss: 0.7108 - val_accuracy: 0.8142\n",
      "Epoch 31/40\n",
      "20/20 [==============================] - 35s 2s/step - loss: 0.3141 - accuracy: 0.9340 - val_loss: 0.8018 - val_accuracy: 0.7616\n",
      "Epoch 32/40\n",
      "20/20 [==============================] - 36s 2s/step - loss: 0.3294 - accuracy: 0.9213 - val_loss: 0.7299 - val_accuracy: 0.8050\n",
      "Epoch 33/40\n",
      "20/20 [==============================] - 36s 2s/step - loss: 0.2704 - accuracy: 0.9404 - val_loss: 0.7141 - val_accuracy: 0.7988\n",
      "Epoch 34/40\n",
      "20/20 [==============================] - 35s 2s/step - loss: 0.2559 - accuracy: 0.9489 - val_loss: 1.7759 - val_accuracy: 0.5635\n",
      "Epoch 35/40\n",
      "20/20 [==============================] - 36s 2s/step - loss: 0.2400 - accuracy: 0.9457 - val_loss: 1.4268 - val_accuracy: 0.5789\n",
      "Epoch 36/40\n",
      "20/20 [==============================] - 35s 2s/step - loss: 0.2203 - accuracy: 0.9543 - val_loss: 0.7841 - val_accuracy: 0.7647\n",
      "Epoch 37/40\n",
      "20/20 [==============================] - 36s 2s/step - loss: 0.2246 - accuracy: 0.9489 - val_loss: 0.8235 - val_accuracy: 0.7492\n",
      "Epoch 38/40\n",
      "20/20 [==============================] - 36s 2s/step - loss: 0.1996 - accuracy: 0.9596 - val_loss: 1.2188 - val_accuracy: 0.6656\n",
      "Epoch 39/40\n",
      "20/20 [==============================] - 35s 2s/step - loss: 0.1686 - accuracy: 0.9638 - val_loss: 0.7193 - val_accuracy: 0.7864\n",
      "Epoch 40/40\n",
      "20/20 [==============================] - 37s 2s/step - loss: 0.1487 - accuracy: 0.9777 - val_loss: 0.6584 - val_accuracy: 0.8266\n"
     ]
    }
   ],
   "source": [
    "hist = model.fit(my_generator(x_train, y_train_one_hot, 960), steps_per_epoch=len(x_train)//960, epochs=40, validation_data=(x_test_final, y_test_final)) # 30-39"
   ]
  },
  {
   "cell_type": "code",
   "execution_count": 20,
   "metadata": {
    "colab": {
     "base_uri": "https://localhost:8080/",
     "height": 449
    },
    "id": "7_vweXGj-kyy",
    "outputId": "a898b0e1-c02f-4d30-bd49-ce17726cacd8"
   },
   "outputs": [
    {
     "data": {
      "image/png": "[encoded data removed]",
      "text/plain": [
       "<Figure size 640x480 with 1 Axes>"
      ]
     },
     "metadata": {},
     "output_type": "display_data"
    }
   ],
   "source": [
    "# Plotting the loss value during training\n",
    "plt.plot(hist.history[\"loss\"], label=\"loss\")\n",
    "plt.plot(hist.history[\"val_loss\"], label=\"val_loss\")\n",
    "plt.xlabel(\"epochs\")\n",
    "plt.ylabel(\"CrossEntropy error\")\n",
    "plt.legend()\n",
    "plt.show()"
   ]
  },
  {
   "cell_type": "code",
   "execution_count": 21,
   "metadata": {
    "colab": {
     "base_uri": "https://localhost:8080/",
     "height": 449
    },
    "id": "lvHmhm51-kvi",
    "outputId": "56ff97bc-7bed-4c6c-89f4-a04a0a306327"
   },
   "outputs": [
    {
     "data": {
      "image/png": "[encoded data removed]",
      "text/plain": [
       "<Figure size 640x480 with 1 Axes>"
      ]
     },
     "metadata": {},
     "output_type": "display_data"
    }
   ],
   "source": [
    "# Plotting the MAE value during training\n",
    "plt.plot(hist.history[\"accuracy\"], label=\"accuracy\")\n",
    "plt.plot(hist.history[\"val_accuracy\"], label=\"val_accuracy\")\n",
    "plt.xlabel(\"epochs\")\n",
    "plt.ylabel(\"Accuracy\")\n",
    "plt.legend()\n",
    "plt.show()"
   ]
  },
  {
   "cell_type": "code",
   "execution_count": null,
   "metadata": {
    "id": "qzhanTan_88a"
   },
   "outputs": [],
   "source": []
  }
 ],
 "metadata": {
  "accelerator": "GPU",
  "colab": {
   "gpuType": "T4",
   "provenance": []
  },
  "kernelspec": {
   "display_name": "Python 3 (ipykernel)",
   "language": "python",
   "name": "python3"
  },
  "language_info": {
   "codemirror_mode": {
    "name": "ipython",
    "version": 3
   },
   "file_extension": ".py",
   "mimetype": "text/x-python",
   "name": "python",
   "nbconvert_exporter": "python",
   "pygments_lexer": "ipython3",
   "version": "3.11.5"
  }
 },
 "nbformat": 4,
 "nbformat_minor": 1
}
