{
 "cells": [
  {
   "cell_type": "markdown",
   "metadata": {},
   "source": [
    "# Deep Learning HW4\n",
    "## Alireza Taban - 40105424"
   ]
  },
  {
   "cell_type": "markdown",
   "metadata": {},
   "source": [
    "## 1. Importing Libraries"
   ]
  },
  {
   "cell_type": "markdown",
   "metadata": {},
   "source": [
    "    - cv2: working with image data\n",
    "    - os: working with directories\n",
    "    - glob: working with image addresses\n",
    "    - matplotlib: plotting\n",
    "    - numpy: working with arrays\n",
    "    - random: randomizing\n",
    "    - tensorflow: model training\n",
    "    - keras: one hot vetor"
   ]
  },
  {
   "cell_type": "code",
   "execution_count": 3,
   "metadata": {
    "id": "73XBfy-MAVko"
   },
   "outputs": [],
   "source": [
    "# Importing all necessary libraries\n",
    "import cv2\n",
    "import os\n",
    "import glob\n",
    "import matplotlib.pyplot as plt\n",
    "import numpy as np\n",
    "import random\n",
    "from tensorflow.keras import layers, models\n",
    "import tensorflow as tf\n",
    "from keras.utils import to_categorical"
   ]
  },
  {
   "cell_type": "markdown",
   "metadata": {},
   "source": [
    "## 2. Downloading and Preparing Data\n",
    "    - Downloading Data\n",
    "    - Extracting Frames from videos\n",
    "    - Considering every 10 class labels\n",
    "    - Spliting Data to train/test"
   ]
  },
  {
   "cell_type": "code",
   "execution_count": 2,
   "metadata": {},
   "outputs": [],
   "source": [
    "mySeed = 42\n",
    "np.random.seed(mySeed)\n",
    "random.seed(mySeed)\n",
    "tf.random.set_seed(mySeed)"
   ]
  },
  {
   "cell_type": "code",
   "execution_count": null,
   "metadata": {
    "id": "y7xAcqyHApo2"
   },
   "outputs": [],
   "source": [
    "!wget --no-check-certificate -O UCF50.rar https://www.crcv.ucf.edu/data/UCF50.rar\n",
    "!unrar x UCF50.rar\n",
    "!rm -rf UCF50.rar"
   ]
  },
  {
   "cell_type": "code",
   "execution_count": null,
   "metadata": {
    "id": "E45Ro6nFApl6"
   },
   "outputs": [],
   "source": [
    "# video_path = \"UCF50\\\\*\\\\*.avi\"\n",
    "video_path = \"/content/UCF50/*/*.avi\"\n",
    "temp = ''\n",
    "for index, video_address in enumerate(sorted(glob.glob(video_path))):\n",
    "    # class_label = video_address.split('\\\\')[1]\n",
    "    # image_name = video_address.split('\\\\')[-1]\n",
    "    class_label = video_address.split('/')[-2]\n",
    "    image_name = video_address.split('/')[-1]\n",
    "    cam = cv2.VideoCapture(video_address)\n",
    "\n",
    "    if class_label != temp:\n",
    "        # path = 'data\\\\'+class_label\n",
    "        path = '/content/data/'+class_label\n",
    "        os.makedirs(path)\n",
    "        video_counter = 0\n",
    "        print ('Extracting ' + class_label + ' video frames...')\n",
    "    temp = class_label\n",
    "    # frames_path = path + '\\\\' + str(video_counter)\n",
    "    frames_path = path + '/' + str(video_counter)\n",
    "    os.makedirs(frames_path)\n",
    "    frame_counter = 0\n",
    "    while(frame_counter<20):\n",
    "\n",
    "        # reading from frame\n",
    "        ret,frame = cam.read()\n",
    "\n",
    "        if ret:\n",
    "            # if video is still left continue creating images\n",
    "            # name = frames_path + '\\\\' + str(frame_counter) + '.jpg'\n",
    "            name = frames_path + '/' + str(frame_counter) + '.jpg'\n",
    "            # writing the extracted images\n",
    "            cv2.imwrite(name, frame)\n",
    "        else:\n",
    "            break\n",
    "\n",
    "        frame_counter += 1\n",
    "    video_counter += 1\n",
    "#     data[class_label] ="
   ]
  },
  {
   "cell_type": "code",
   "execution_count": 4,
   "metadata": {
    "id": "zf7_Y6UiAph7"
   },
   "outputs": [],
   "source": [
    "labels = dict()\n",
    "# for index, label_address in enumerate(glob.glob(\"data\\\\*\")):\n",
    "for index, label_address in enumerate(sorted(glob.glob(\"/content/data/*\"))):\n",
    "    # l = label_address.split('\\\\')[-1]\n",
    "    l = label_address.split('/')[-1]\n",
    "    labels[l] = index"
   ]
  },
  {
   "cell_type": "code",
   "execution_count": 5,
   "metadata": {
    "id": "eH_Uo4FMApgC"
   },
   "outputs": [],
   "source": [
    "list_of_labels = []\n",
    "count = 0\n",
    "tmp = dict()\n",
    "\n",
    "for i, l in enumerate(labels):\n",
    "  if (count)%10 == 0 and count !=0:\n",
    "    list_of_labels.append(tmp)\n",
    "    tmp = dict()\n",
    "  count += 1\n",
    "  tmp[l] = i%10\n",
    "list_of_labels.append(tmp)"
   ]
  },
  {
   "cell_type": "code",
   "execution_count": 6,
   "metadata": {
    "id": "_jL-nLkyApcW"
   },
   "outputs": [],
   "source": [
    "x_train_temp = list()\n",
    "y_train_temp = list()\n",
    "x_test_temp = list()\n",
    "y_test_temp = list()"
   ]
  },
  {
   "cell_type": "code",
   "execution_count": 7,
   "metadata": {
    "id": "y3v5Jml6ApaL"
   },
   "outputs": [],
   "source": [
    "labels_ = list_of_labels[0]\n",
    "for label in labels_:\n",
    "    # temp_path = 'data\\\\'+ label + '\\\\*'\n",
    "    temp_path = '/content/data/'+ label + '/*'\n",
    "    temp_list = list()\n",
    "    for index, video_address in enumerate(sorted(glob.glob(temp_path))):\n",
    "        # temp_list.append(video_address+'\\\\*.jpg')\n",
    "        temp_list.append(video_address+'/*.jpg')\n",
    "    random.shuffle(temp_list)\n",
    "    temp_len = len(temp_list)\n",
    "    threshold = int(np.floor(.75*temp_len))\n",
    "    x_train_temp.extend(temp_list[:threshold])\n",
    "    temp_label = np.ones(threshold)*labels_[label]\n",
    "    y_train_temp.extend(list(temp_label))\n",
    "    x_test_temp.extend(temp_list[threshold+1:])\n",
    "    temp_label = np.ones(temp_len-threshold-1)*labels_[label]\n",
    "    y_test_temp.extend(list(temp_label))"
   ]
  },
  {
   "cell_type": "code",
   "execution_count": 8,
   "metadata": {
    "colab": {
     "base_uri": "https://localhost:8080/"
    },
    "id": "Xi6fsyhJApWT",
    "outputId": "90c644e7-00a6-48bb-eee2-90f3802c6317"
   },
   "outputs": [
    {
     "data": {
      "text/plain": [
       "{'BaseballPitch': 0,\n",
       " 'Basketball': 1,\n",
       " 'BenchPress': 2,\n",
       " 'Biking': 3,\n",
       " 'Billiards': 4,\n",
       " 'BreastStroke': 5,\n",
       " 'CleanAndJerk': 6,\n",
       " 'Diving': 7,\n",
       " 'Drumming': 8,\n",
       " 'Fencing': 9}"
      ]
     },
     "execution_count": 8,
     "metadata": {},
     "output_type": "execute_result"
    }
   ],
   "source": [
    "list_of_labels[0]"
   ]
  },
  {
   "cell_type": "code",
   "execution_count": 9,
   "metadata": {
    "id": "Sbwr2OzqApUI"
   },
   "outputs": [],
   "source": [
    "indices = np.arange(len(x_train_temp))\n",
    "np.random.shuffle(indices)\n",
    "\n",
    "x_train_temp = [x_train_temp[i] for i in indices]\n",
    "y_train_temp = [y_train_temp[i] for i in indices]"
   ]
  },
  {
   "cell_type": "code",
   "execution_count": 10,
   "metadata": {
    "id": "8OUa6LPkApQR"
   },
   "outputs": [],
   "source": [
    "x_train = list()\n",
    "y_train = list()\n",
    "x_test = list()\n",
    "y_test = list()"
   ]
  },
  {
   "cell_type": "code",
   "execution_count": 11,
   "metadata": {
    "id": "p51kwGW3ApN9"
   },
   "outputs": [],
   "source": [
    "for index, video_address in enumerate(x_train_temp):\n",
    "    for image_address in sorted(glob.glob(video_address), key=lambda x: int(x.split(\"/\")[-1].split(\".\")[0])):\n",
    "        x_train.append(image_address)\n",
    "        y_train.append(y_train_temp[index])\n",
    "\n",
    "del x_train_temp\n",
    "del y_train_temp\n",
    "\n",
    "for index, video_address in enumerate(x_test_temp):\n",
    "    for image_address in sorted(glob.glob(video_address), key=lambda x: int(x.split(\"/\")[-1].split(\".\")[0])):\n",
    "        x_test.append(image_address)\n",
    "        y_test.append(y_test_temp[index])\n",
    "\n",
    "del x_test_temp\n",
    "del y_test_temp"
   ]
  },
  {
   "cell_type": "code",
   "execution_count": 12,
   "metadata": {
    "id": "2JOyF83KBNvY"
   },
   "outputs": [],
   "source": [
    "y_train = np.array(y_train)\n",
    "y_test = np.array(y_test)"
   ]
  },
  {
   "cell_type": "code",
   "execution_count": 13,
   "metadata": {
    "colab": {
     "base_uri": "https://localhost:8080/"
    },
    "id": "1B43N-d5BNsT",
    "outputId": "a9019506-83d7-4469-ff1c-a7397423d283"
   },
   "outputs": [
    {
     "data": {
      "text/plain": [
       "((20600, 10), (6800, 10))"
      ]
     },
     "execution_count": 13,
     "metadata": {},
     "output_type": "execute_result"
    }
   ],
   "source": [
    "# Convert to one-hot encoding\n",
    "y_train_one_hot = to_categorical(y_train, num_classes=10)\n",
    "y_test_one_hot = to_categorical(y_test, num_classes=10)\n",
    "y_train_one_hot.shape, y_test_one_hot.shape"
   ]
  },
  {
   "cell_type": "code",
   "execution_count": 14,
   "metadata": {
    "id": "bzfVCffIBNpg"
   },
   "outputs": [],
   "source": [
    "x_temp = []\n",
    "x_test_final = []\n",
    "y_test_final = []\n",
    "cnt = 0\n",
    "\n",
    "for i, x_ in enumerate(x_test):\n",
    "\n",
    "        img = cv2.imread(x_)\n",
    "        img = cv2.resize(img, (100, 100))\n",
    "        img = img/255.\n",
    "\n",
    "        if (i)%20 == 0 and i!=0:\n",
    "          x_temp = np.array(x_temp)\n",
    "          # print(x_temp.shape)\n",
    "          x_test_final.append(x_temp)\n",
    "          x_temp = []\n",
    "          y_test_final.append(y_test_one_hot[i-1])\n",
    "\n",
    "        x_temp.append(img)\n",
    "        # x_batch.append(img)\n",
    "        # cnt += 1\n",
    "x_temp = np.array(x_temp)\n",
    "x_test_final.append(x_temp)\n",
    "y_test_final.append(y_test_one_hot[i-1])\n",
    "        # y_batch = y[i : i + batch_size]\n",
    "x_test_final = np.array(x_test_final)\n",
    "y_test_final = np.array(y_test_final)\n",
    "# print(x_batch.shape)\n",
    "# print(y_batch.shape)\n"
   ]
  },
  {
   "cell_type": "code",
   "execution_count": 15,
   "metadata": {
    "colab": {
     "base_uri": "https://localhost:8080/"
    },
    "id": "PZfjadsGBNkt",
    "outputId": "52d51450-ddad-4fac-d3ae-d645341fc2a2"
   },
   "outputs": [
    {
     "data": {
      "text/plain": [
       "((340, 20, 100, 100, 3), (340, 10))"
      ]
     },
     "execution_count": 15,
     "metadata": {},
     "output_type": "execute_result"
    }
   ],
   "source": [
    "x_test_final.shape, y_test_final.shape"
   ]
  },
  {
   "cell_type": "markdown",
   "metadata": {},
   "source": [
    "## 3. Defining Generator Function and Training Model\n",
    "    - Reading image addresses\n",
    "    - Resizing images to 100x100\n",
    "    - Normalizing images\n",
    "    - Considering each 20 frames as 1 data point with its corresponding label\n",
    "    - Defining model architecture\n",
    "    - Compiling the model\n",
    "    - Training the model\n",
    "    - Plotting loss and accuracy plots"
   ]
  },
  {
   "cell_type": "code",
   "execution_count": 16,
   "metadata": {
    "id": "JAa9xfjqBNhx"
   },
   "outputs": [],
   "source": [
    "def my_generator(x, y, batch_size):\n",
    "\n",
    "    while True:\n",
    "\n",
    "        for i in range(0, len(x), batch_size):\n",
    "            x_temp = []\n",
    "            x_batch = []\n",
    "            y_batch = []\n",
    "            cnt = 0\n",
    "\n",
    "            for j, x_ in enumerate(x[i : i + batch_size]):\n",
    "                img = cv2.imread(x_)\n",
    "                img = cv2.resize(img, (100, 100))\n",
    "                img = img/255.\n",
    "\n",
    "                if (cnt)%20 == 0 and cnt!=0:\n",
    "                  x_temp = np.array(x_temp)\n",
    "                  # print(x_temp.shape)\n",
    "                  x_batch.append(x_temp)\n",
    "                  x_temp = []\n",
    "                  y_batch.append(y[i+j-1])\n",
    "\n",
    "                x_temp.append(img)\n",
    "                # x_batch.append(img)\n",
    "                cnt += 1\n",
    "            x_temp = np.array(x_temp)\n",
    "            x_batch.append(x_temp)\n",
    "            y_batch.append(y[i+j-1])\n",
    "            # y_batch = y[i : i + batch_size]\n",
    "            x_batch = np.array(x_batch)\n",
    "            y_batch = np.array(y_batch)\n",
    "            # print(x_batch.shape)\n",
    "            # print(y_batch.shape)\n",
    "\n",
    "            yield x_batch, y_batch"
   ]
  },
  {
   "cell_type": "code",
   "execution_count": 17,
   "metadata": {
    "id": "0YeYJBiMApKG"
   },
   "outputs": [],
   "source": [
    "model = models.Sequential([\n",
    "\n",
    "    layers.Conv3D(32, kernel_size=(3, 3, 3), input_shape=(20, 100, 100, 3), padding='same'),\n",
    "    layers.BatchNormalization(),\n",
    "    layers.Activation('relu'),\n",
    "\n",
    "    layers.MaxPooling3D(pool_size=(1, 2, 2)),\n",
    "\n",
    "    layers.Conv3D(64, kernel_size=(3, 3, 3), padding='same'),\n",
    "    layers.BatchNormalization(),\n",
    "    layers.Activation('relu'),\n",
    "\n",
    "    layers.MaxPooling3D(pool_size=(1, 2, 2)),\n",
    "\n",
    "    layers.Conv3D(64, kernel_size=(3, 3, 3), padding='same'),\n",
    "    layers.BatchNormalization(),\n",
    "    layers.Activation('relu'),\n",
    "\n",
    "    layers.MaxPooling3D(pool_size=(1, 2, 2)),\n",
    "\n",
    "    layers.Conv3D(64, kernel_size=(3, 3, 3), padding='same'),\n",
    "    layers.BatchNormalization(),\n",
    "    layers.Activation('relu'),\n",
    "\n",
    "    layers.MaxPooling3D(pool_size=(1, 2, 2)),\n",
    "\n",
    "    layers.TimeDistributed(layers.Flatten()),\n",
    "\n",
    "    layers.LSTM(16),\n",
    "\n",
    "    layers.Dense(64, activation='relu'),\n",
    "    layers.Dropout(0.45),\n",
    "\n",
    "    layers.Dense(10, activation='softmax')\n",
    "])\n",
    "\n",
    "# Compile the model\n",
    "model.compile(optimizer='adam', loss='categorical_crossentropy', metrics=['accuracy'])"
   ]
  },
  {
   "cell_type": "code",
   "execution_count": 18,
   "metadata": {
    "colab": {
     "base_uri": "https://localhost:8080/"
    },
    "id": "j45jR4wRBevd",
    "outputId": "0eeb85b5-b143-40e1-8e76-bdccfaf595ac"
   },
   "outputs": [
    {
     "name": "stdout",
     "output_type": "stream",
     "text": [
      "Model: \"sequential\"\n",
      "_________________________________________________________________\n",
      " Layer (type)                Output Shape              Param #   \n",
      "=================================================================\n",
      " conv3d (Conv3D)             (None, 20, 100, 100, 32   2624      \n",
      "                             )                                   \n",
      "                                                                 \n",
      " batch_normalization (Batch  (None, 20, 100, 100, 32   128       \n",
      " Normalization)              )                                   \n",
      "                                                                 \n",
      " activation (Activation)     (None, 20, 100, 100, 32   0         \n",
      "                             )                                   \n",
      "                                                                 \n",
      " max_pooling3d (MaxPooling3  (None, 20, 50, 50, 32)    0         \n",
      " D)                                                              \n",
      "                                                                 \n",
      " conv3d_1 (Conv3D)           (None, 20, 50, 50, 64)    55360     \n",
      "                                                                 \n",
      " batch_normalization_1 (Bat  (None, 20, 50, 50, 64)    256       \n",
      " chNormalization)                                                \n",
      "                                                                 \n",
      " activation_1 (Activation)   (None, 20, 50, 50, 64)    0         \n",
      "                                                                 \n",
      " max_pooling3d_1 (MaxPoolin  (None, 20, 25, 25, 64)    0         \n",
      " g3D)                                                            \n",
      "                                                                 \n",
      " conv3d_2 (Conv3D)           (None, 20, 25, 25, 64)    110656    \n",
      "                                                                 \n",
      " batch_normalization_2 (Bat  (None, 20, 25, 25, 64)    256       \n",
      " chNormalization)                                                \n",
      "                                                                 \n",
      " activation_2 (Activation)   (None, 20, 25, 25, 64)    0         \n",
      "                                                                 \n",
      " max_pooling3d_2 (MaxPoolin  (None, 20, 12, 12, 64)    0         \n",
      " g3D)                                                            \n",
      "                                                                 \n",
      " conv3d_3 (Conv3D)           (None, 20, 12, 12, 64)    110656    \n",
      "                                                                 \n",
      " batch_normalization_3 (Bat  (None, 20, 12, 12, 64)    256       \n",
      " chNormalization)                                                \n",
      "                                                                 \n",
      " activation_3 (Activation)   (None, 20, 12, 12, 64)    0         \n",
      "                                                                 \n",
      " max_pooling3d_3 (MaxPoolin  (None, 20, 6, 6, 64)      0         \n",
      " g3D)                                                            \n",
      "                                                                 \n",
      " time_distributed (TimeDist  (None, 20, 2304)          0         \n",
      " ributed)                                                        \n",
      "                                                                 \n",
      " lstm (LSTM)                 (None, 16)                148544    \n",
      "                                                                 \n",
      " dense (Dense)               (None, 64)                1088      \n",
      "                                                                 \n",
      " dropout (Dropout)           (None, 64)                0         \n",
      "                                                                 \n",
      " dense_1 (Dense)             (None, 10)                650       \n",
      "                                                                 \n",
      "=================================================================\n",
      "Total params: 430474 (1.64 MB)\n",
      "Trainable params: 430026 (1.64 MB)\n",
      "Non-trainable params: 448 (1.75 KB)\n",
      "_________________________________________________________________\n"
     ]
    }
   ],
   "source": [
    "model.summary()"
   ]
  },
  {
   "cell_type": "code",
   "execution_count": 19,
   "metadata": {
    "colab": {
     "base_uri": "https://localhost:8080/"
    },
    "id": "u2NQA8eCBesE",
    "outputId": "5e0a0b86-790e-4db0-e387-4667ce45a849"
   },
   "outputs": [
    {
     "name": "stdout",
     "output_type": "stream",
     "text": [
      "Epoch 1/40\n",
      "21/21 [==============================] - 76s 3s/step - loss: 2.2826 - accuracy: 0.1200 - val_loss: 2.2846 - val_accuracy: 0.0853\n",
      "Epoch 2/40\n",
      "21/21 [==============================] - 40s 2s/step - loss: 2.1319 - accuracy: 0.2617 - val_loss: 2.1791 - val_accuracy: 0.2941\n",
      "Epoch 3/40\n",
      "21/21 [==============================] - 37s 2s/step - loss: 1.9513 - accuracy: 0.3666 - val_loss: 2.0405 - val_accuracy: 0.3529\n",
      "Epoch 4/40\n",
      "21/21 [==============================] - 36s 2s/step - loss: 1.7805 - accuracy: 0.4338 - val_loss: 2.2576 - val_accuracy: 0.1500\n",
      "Epoch 5/40\n",
      "21/21 [==============================] - 37s 2s/step - loss: 1.6683 - accuracy: 0.4715 - val_loss: 2.1775 - val_accuracy: 0.2353\n",
      "Epoch 6/40\n",
      "21/21 [==============================] - 38s 2s/step - loss: 1.5291 - accuracy: 0.5020 - val_loss: 2.1890 - val_accuracy: 0.2235\n",
      "Epoch 7/40\n",
      "21/21 [==============================] - 37s 2s/step - loss: 1.4615 - accuracy: 0.5295 - val_loss: 1.9549 - val_accuracy: 0.3824\n",
      "Epoch 8/40\n",
      "21/21 [==============================] - 35s 2s/step - loss: 1.3603 - accuracy: 0.5662 - val_loss: 1.5750 - val_accuracy: 0.4676\n",
      "Epoch 9/40\n",
      "21/21 [==============================] - 36s 2s/step - loss: 1.2069 - accuracy: 0.6141 - val_loss: 1.3992 - val_accuracy: 0.5559\n",
      "Epoch 10/40\n",
      "21/21 [==============================] - 37s 2s/step - loss: 1.0835 - accuracy: 0.6650 - val_loss: 1.5712 - val_accuracy: 0.4441\n",
      "Epoch 11/40\n",
      "21/21 [==============================] - 35s 2s/step - loss: 0.9925 - accuracy: 0.6813 - val_loss: 1.5391 - val_accuracy: 0.4971\n",
      "Epoch 12/40\n",
      "21/21 [==============================] - 36s 2s/step - loss: 0.8884 - accuracy: 0.7352 - val_loss: 1.2369 - val_accuracy: 0.5853\n",
      "Epoch 13/40\n",
      "21/21 [==============================] - 37s 2s/step - loss: 0.8045 - accuracy: 0.7556 - val_loss: 1.2314 - val_accuracy: 0.5794\n",
      "Epoch 14/40\n",
      "21/21 [==============================] - 36s 2s/step - loss: 0.6913 - accuracy: 0.8024 - val_loss: 1.3199 - val_accuracy: 0.5235\n",
      "Epoch 15/40\n",
      "21/21 [==============================] - 36s 2s/step - loss: 0.6420 - accuracy: 0.8147 - val_loss: 1.0051 - val_accuracy: 0.6676\n",
      "Epoch 16/40\n",
      "21/21 [==============================] - 36s 2s/step - loss: 0.7130 - accuracy: 0.7709 - val_loss: 0.7658 - val_accuracy: 0.7500\n",
      "Epoch 17/40\n",
      "21/21 [==============================] - 36s 2s/step - loss: 0.6173 - accuracy: 0.8167 - val_loss: 0.7538 - val_accuracy: 0.8000\n",
      "Epoch 18/40\n",
      "21/21 [==============================] - 37s 2s/step - loss: 0.5357 - accuracy: 0.8585 - val_loss: 0.6601 - val_accuracy: 0.8265\n",
      "Epoch 19/40\n",
      "21/21 [==============================] - 36s 2s/step - loss: 0.5111 - accuracy: 0.8717 - val_loss: 0.8858 - val_accuracy: 0.7206\n",
      "Epoch 20/40\n",
      "21/21 [==============================] - 35s 2s/step - loss: 0.4276 - accuracy: 0.8941 - val_loss: 0.6352 - val_accuracy: 0.8206\n",
      "Epoch 21/40\n",
      "21/21 [==============================] - 37s 2s/step - loss: 0.3841 - accuracy: 0.9277 - val_loss: 0.5484 - val_accuracy: 0.8618\n",
      "Epoch 22/40\n",
      "21/21 [==============================] - 36s 2s/step - loss: 0.3421 - accuracy: 0.9185 - val_loss: 0.7230 - val_accuracy: 0.8029\n",
      "Epoch 23/40\n",
      "21/21 [==============================] - 37s 2s/step - loss: 0.3155 - accuracy: 0.9365 - val_loss: 0.8581 - val_accuracy: 0.7559\n",
      "Epoch 24/40\n",
      "21/21 [==============================] - 36s 2s/step - loss: 0.2851 - accuracy: 0.9420 - val_loss: 1.5884 - val_accuracy: 0.5941\n",
      "Epoch 25/40\n",
      "21/21 [==============================] - 37s 2s/step - loss: 0.3783 - accuracy: 0.9104 - val_loss: 1.2981 - val_accuracy: 0.6147\n",
      "Epoch 26/40\n",
      "21/21 [==============================] - 36s 2s/step - loss: 0.2769 - accuracy: 0.9450 - val_loss: 0.6335 - val_accuracy: 0.8265\n",
      "Epoch 27/40\n",
      "21/21 [==============================] - 36s 2s/step - loss: 0.2264 - accuracy: 0.9562 - val_loss: 0.4968 - val_accuracy: 0.8588\n",
      "Epoch 28/40\n",
      "21/21 [==============================] - 37s 2s/step - loss: 0.2090 - accuracy: 0.9684 - val_loss: 0.4338 - val_accuracy: 0.8735\n",
      "Epoch 29/40\n",
      "21/21 [==============================] - 35s 2s/step - loss: 0.1967 - accuracy: 0.9684 - val_loss: 0.4451 - val_accuracy: 0.8824\n",
      "Epoch 30/40\n",
      "21/21 [==============================] - 36s 2s/step - loss: 0.1671 - accuracy: 0.9776 - val_loss: 0.3836 - val_accuracy: 0.8941\n",
      "Epoch 31/40\n",
      "21/21 [==============================] - 37s 2s/step - loss: 0.1478 - accuracy: 0.9776 - val_loss: 0.3958 - val_accuracy: 0.8882\n",
      "Epoch 32/40\n",
      "21/21 [==============================] - 36s 2s/step - loss: 0.1343 - accuracy: 0.9776 - val_loss: 0.3564 - val_accuracy: 0.9000\n",
      "Epoch 33/40\n",
      "21/21 [==============================] - 36s 2s/step - loss: 0.1141 - accuracy: 0.9827 - val_loss: 0.3407 - val_accuracy: 0.9088\n",
      "Epoch 34/40\n",
      "21/21 [==============================] - 37s 2s/step - loss: 0.1104 - accuracy: 0.9868 - val_loss: 0.3463 - val_accuracy: 0.9088\n",
      "Epoch 35/40\n",
      "21/21 [==============================] - 36s 2s/step - loss: 0.0907 - accuracy: 0.9888 - val_loss: 0.3576 - val_accuracy: 0.8941\n",
      "Epoch 36/40\n",
      "21/21 [==============================] - 36s 2s/step - loss: 0.0977 - accuracy: 0.9847 - val_loss: 0.3662 - val_accuracy: 0.8971\n",
      "Epoch 37/40\n",
      "21/21 [==============================] - 37s 2s/step - loss: 0.0920 - accuracy: 0.9857 - val_loss: 0.4332 - val_accuracy: 0.8794\n",
      "Epoch 38/40\n",
      "21/21 [==============================] - 36s 2s/step - loss: 0.0721 - accuracy: 0.9888 - val_loss: 0.3351 - val_accuracy: 0.9118\n",
      "Epoch 39/40\n",
      "21/21 [==============================] - 37s 2s/step - loss: 0.0688 - accuracy: 0.9878 - val_loss: 0.3083 - val_accuracy: 0.9147\n",
      "Epoch 40/40\n",
      "21/21 [==============================] - 36s 2s/step - loss: 0.0686 - accuracy: 0.9878 - val_loss: 0.3418 - val_accuracy: 0.9000\n"
     ]
    }
   ],
   "source": [
    "hist = model.fit(my_generator(x_train, y_train_one_hot, 960), steps_per_epoch=len(x_train)//960, epochs=40, validation_data=(x_test_final, y_test_final)) # 0-9"
   ]
  },
  {
   "cell_type": "code",
   "execution_count": 20,
   "metadata": {
    "colab": {
     "base_uri": "https://localhost:8080/",
     "height": 449
    },
    "id": "0CxjltJOBepa",
    "outputId": "2b1ab738-42e0-4023-d920-721f2625f15f"
   },
   "outputs": [
    {
     "data": {
      "image/png": "[encoded data removed]",
      "text/plain": [
       "<Figure size 640x480 with 1 Axes>"
      ]
     },
     "metadata": {},
     "output_type": "display_data"
    }
   ],
   "source": [
    "# Plotting the loss value during training\n",
    "plt.plot(hist.history[\"loss\"], label=\"loss\")\n",
    "plt.plot(hist.history[\"val_loss\"], label=\"val_loss\")\n",
    "plt.xlabel(\"epochs\")\n",
    "plt.ylabel(\"CrossEntropy error\")\n",
    "plt.legend()\n",
    "plt.show()"
   ]
  },
  {
   "cell_type": "code",
   "execution_count": 21,
   "metadata": {
    "colab": {
     "base_uri": "https://localhost:8080/",
     "height": 449
    },
    "id": "Wr_PCGLQApHc",
    "outputId": "1c237b45-81f3-4ae6-e27e-1758f3c8210a"
   },
   "outputs": [
    {
     "data": {
      "image/png": "[encoded data removed]",
      "text/plain": [
       "<Figure size 640x480 with 1 Axes>"
      ]
     },
     "metadata": {},
     "output_type": "display_data"
    }
   ],
   "source": [
    "# Plotting the MAE value during training\n",
    "plt.plot(hist.history[\"accuracy\"], label=\"accuracy\")\n",
    "plt.plot(hist.history[\"val_accuracy\"], label=\"val_accuracy\")\n",
    "plt.xlabel(\"epochs\")\n",
    "plt.ylabel(\"Accuracy\")\n",
    "plt.legend()\n",
    "plt.show()"
   ]
  },
  {
   "cell_type": "code",
   "execution_count": null,
   "metadata": {
    "id": "gMdheF2fCNVD"
   },
   "outputs": [],
   "source": []
  }
 ],
 "metadata": {
  "accelerator": "GPU",
  "colab": {
   "gpuType": "T4",
   "provenance": []
  },
  "kernelspec": {
   "display_name": "Python 3 (ipykernel)",
   "language": "python",
   "name": "python3"
  },
  "language_info": {
   "codemirror_mode": {
    "name": "ipython",
    "version": 3
   },
   "file_extension": ".py",
   "mimetype": "text/x-python",
   "name": "python",
   "nbconvert_exporter": "python",
   "pygments_lexer": "ipython3",
   "version": "3.11.5"
  }
 },
 "nbformat": 4,
 "nbformat_minor": 1
}
