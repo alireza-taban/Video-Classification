{
 "cells": [
  {
   "cell_type": "markdown",
   "id": "df87f1f9",
   "metadata": {},
   "source": [
    "# Deep Learning HW4\n",
    "## Alireza Taban - 40105424"
   ]
  },
  {
   "cell_type": "code",
   "execution_count": 1,
   "id": "e6a1f427",
   "metadata": {
    "id": "e6a1f427"
   },
   "outputs": [
    {
     "name": "stdout",
     "output_type": "stream",
     "text": [
      "WARNING:tensorflow:From E:\\Anaconda\\Lib\\site-packages\\keras\\src\\losses.py:2976: The name tf.losses.sparse_softmax_cross_entropy is deprecated. Please use tf.compat.v1.losses.sparse_softmax_cross_entropy instead.\n",
      "\n"
     ]
    }
   ],
   "source": [
    "# Importing all necessary libraries\n",
    "import cv2\n",
    "import os\n",
    "import glob\n",
    "import matplotlib.pyplot as plt\n",
    "import numpy as np\n",
    "import random\n",
    "from tensorflow.keras import layers, models\n",
    "import tensorflow as tf\n",
    "from keras.utils import to_categorical"
   ]
  },
  {
   "cell_type": "code",
   "execution_count": 2,
   "id": "4705e3bc",
   "metadata": {},
   "outputs": [],
   "source": [
    "mySeed = 42\n",
    "np.random.seed(mySeed)\n",
    "random.seed(mySeed)\n",
    "tf.random.set_seed(mySeed)"
   ]
  },
  {
   "cell_type": "code",
   "execution_count": null,
   "id": "om66qL4voGvm",
   "metadata": {
    "id": "om66qL4voGvm"
   },
   "outputs": [],
   "source": [
    "!wget --no-check-certificate -O UCF50.rar https://www.crcv.ucf.edu/data/UCF50.rar\n",
    "!unrar x UCF50.rar\n",
    "!rm -rf UCF50.rar"
   ]
  },
  {
   "cell_type": "code",
   "execution_count": null,
   "id": "H1MRzEVGoGqB",
   "metadata": {
    "id": "H1MRzEVGoGqB"
   },
   "outputs": [],
   "source": [
    "# video_path = \"UCF50\\\\*\\\\*.avi\"\n",
    "video_path = \"/content/UCF50/*/*.avi\"\n",
    "temp = ''\n",
    "for index, video_address in enumerate(sorted(glob.glob(video_path))):\n",
    "    # class_label = video_address.split('\\\\')[1]\n",
    "    # image_name = video_address.split('\\\\')[-1]\n",
    "    class_label = video_address.split('/')[-2]\n",
    "    image_name = video_address.split('/')[-1]\n",
    "    cam = cv2.VideoCapture(video_address)\n",
    "\n",
    "    if class_label != temp:\n",
    "        # path = 'data\\\\'+class_label\n",
    "        path = '/content/data/'+class_label\n",
    "        os.makedirs(path)\n",
    "        video_counter = 0\n",
    "        print ('Extracting ' + class_label + ' video frames...')\n",
    "    temp = class_label\n",
    "    # frames_path = path + '\\\\' + str(video_counter)\n",
    "    frames_path = path + '/' + str(video_counter)\n",
    "    os.makedirs(frames_path)\n",
    "    frame_counter = 0\n",
    "    while(frame_counter<20):\n",
    "\n",
    "        # reading from frame\n",
    "        ret,frame = cam.read()\n",
    "\n",
    "        if ret:\n",
    "            # if video is still left continue creating images\n",
    "            # name = frames_path + '\\\\' + str(frame_counter) + '.jpg'\n",
    "            name = frames_path + '/' + str(frame_counter) + '.jpg'\n",
    "            # writing the extracted images\n",
    "            cv2.imwrite(name, frame)\n",
    "        else:\n",
    "            break\n",
    "\n",
    "        frame_counter += 1\n",
    "    video_counter += 1\n",
    "#     data[class_label] ="
   ]
  },
  {
   "cell_type": "code",
   "execution_count": 2,
   "id": "oX6SLnYUoGlc",
   "metadata": {
    "id": "oX6SLnYUoGlc"
   },
   "outputs": [],
   "source": [
    "labels = dict()\n",
    "# for index, label_address in enumerate(glob.glob(\"data\\\\*\")):\n",
    "for index, label_address in enumerate(sorted(glob.glob(\"/content/data/*\"))):\n",
    "    # l = label_address.split('\\\\')[-1]\n",
    "    l = label_address.split('/')[-1]\n",
    "    labels[l] = index"
   ]
  },
  {
   "cell_type": "code",
   "execution_count": 3,
   "id": "7LkrYkumoGit",
   "metadata": {
    "id": "7LkrYkumoGit"
   },
   "outputs": [],
   "source": [
    "list_of_labels = []\n",
    "count = 0\n",
    "tmp = dict()\n",
    "\n",
    "for i, l in enumerate(labels):\n",
    "  if (count)%10 == 0 and count !=0:\n",
    "    list_of_labels.append(tmp)\n",
    "    tmp = dict()\n",
    "  count += 1\n",
    "  tmp[l] = i%10\n",
    "list_of_labels.append(tmp)"
   ]
  },
  {
   "cell_type": "code",
   "execution_count": 4,
   "id": "Mjlk2vf1oGf0",
   "metadata": {
    "id": "Mjlk2vf1oGf0"
   },
   "outputs": [],
   "source": [
    "x_train_temp = list()\n",
    "y_train_temp = list()\n",
    "x_test_temp = list()\n",
    "y_test_temp = list()"
   ]
  },
  {
   "cell_type": "code",
   "execution_count": 5,
   "id": "hEkscs9XoGdP",
   "metadata": {
    "id": "hEkscs9XoGdP"
   },
   "outputs": [],
   "source": [
    "labels_ = list_of_labels[4]\n",
    "for label in labels_:\n",
    "    # temp_path = 'data\\\\'+ label + '\\\\*'\n",
    "    temp_path = '/content/data/'+ label + '/*'\n",
    "    temp_list = list()\n",
    "    for index, video_address in enumerate(sorted(glob.glob(temp_path))):\n",
    "        # temp_list.append(video_address+'\\\\*.jpg')\n",
    "        temp_list.append(video_address+'/*.jpg')\n",
    "    random.shuffle(temp_list)\n",
    "    temp_len = len(temp_list)\n",
    "    threshold = int(np.floor(.75*temp_len))\n",
    "    x_train_temp.extend(temp_list[:threshold])\n",
    "    temp_label = np.ones(threshold)*labels_[label]\n",
    "    y_train_temp.extend(list(temp_label))\n",
    "    x_test_temp.extend(temp_list[threshold+1:])\n",
    "    temp_label = np.ones(temp_len-threshold-1)*labels_[label]\n",
    "    y_test_temp.extend(list(temp_label))"
   ]
  },
  {
   "cell_type": "code",
   "execution_count": 6,
   "id": "ljuIIUm2oGaa",
   "metadata": {
    "colab": {
     "base_uri": "https://localhost:8080/"
    },
    "id": "ljuIIUm2oGaa",
    "outputId": "0a9f66f9-297f-4b78-9995-a2cbaeabf95c"
   },
   "outputs": [
    {
     "data": {
      "text/plain": [
       "{'Skijet': 0,\n",
       " 'SoccerJuggling': 1,\n",
       " 'Swing': 2,\n",
       " 'TaiChi': 3,\n",
       " 'TennisSwing': 4,\n",
       " 'ThrowDiscus': 5,\n",
       " 'TrampolineJumping': 6,\n",
       " 'VolleyballSpiking': 7,\n",
       " 'WalkingWithDog': 8,\n",
       " 'YoYo': 9}"
      ]
     },
     "execution_count": 6,
     "metadata": {},
     "output_type": "execute_result"
    }
   ],
   "source": [
    "list_of_labels[4]"
   ]
  },
  {
   "cell_type": "code",
   "execution_count": 7,
   "id": "5NnxvzNMoGX1",
   "metadata": {
    "id": "5NnxvzNMoGX1"
   },
   "outputs": [],
   "source": [
    "indices = np.arange(len(x_train_temp))\n",
    "np.random.shuffle(indices)\n",
    "\n",
    "x_train_temp = [x_train_temp[i] for i in indices]\n",
    "y_train_temp = [y_train_temp[i] for i in indices]"
   ]
  },
  {
   "cell_type": "code",
   "execution_count": 8,
   "id": "GMwLv_XCoGUz",
   "metadata": {
    "id": "GMwLv_XCoGUz"
   },
   "outputs": [],
   "source": [
    "x_train = list()\n",
    "y_train = list()\n",
    "x_test = list()\n",
    "y_test = list()"
   ]
  },
  {
   "cell_type": "code",
   "execution_count": 9,
   "id": "jD-xwnjGoGSC",
   "metadata": {
    "id": "jD-xwnjGoGSC"
   },
   "outputs": [],
   "source": [
    "for index, video_address in enumerate(x_train_temp):\n",
    "    for image_address in sorted(glob.glob(video_address), key=lambda x: int(x.split(\"/\")[-1].split(\".\")[0])):\n",
    "        x_train.append(image_address)\n",
    "        y_train.append(y_train_temp[index])\n",
    "\n",
    "del x_train_temp\n",
    "del y_train_temp\n",
    "\n",
    "for index, video_address in enumerate(x_test_temp):\n",
    "    for image_address in sorted(glob.glob(video_address), key=lambda x: int(x.split(\"/\")[-1].split(\".\")[0])):\n",
    "        x_test.append(image_address)\n",
    "        y_test.append(y_test_temp[index])\n",
    "\n",
    "del x_test_temp\n",
    "del y_test_temp"
   ]
  },
  {
   "cell_type": "code",
   "execution_count": 10,
   "id": "eS11OJtVoGPM",
   "metadata": {
    "id": "eS11OJtVoGPM"
   },
   "outputs": [],
   "source": [
    "y_train = np.array(y_train)\n",
    "y_test = np.array(y_test)"
   ]
  },
  {
   "cell_type": "code",
   "execution_count": 11,
   "id": "dpd7RWwJoGMr",
   "metadata": {
    "colab": {
     "base_uri": "https://localhost:8080/"
    },
    "id": "dpd7RWwJoGMr",
    "outputId": "711ea0c1-b8c2-48d5-d867-d218305a843f"
   },
   "outputs": [
    {
     "data": {
      "text/plain": [
       "((19120, 10), (6220, 10))"
      ]
     },
     "execution_count": 11,
     "metadata": {},
     "output_type": "execute_result"
    }
   ],
   "source": [
    "# Convert to one-hot encoding\n",
    "y_train_one_hot = to_categorical(y_train, num_classes=10)\n",
    "y_test_one_hot = to_categorical(y_test, num_classes=10)\n",
    "y_train_one_hot.shape, y_test_one_hot.shape"
   ]
  },
  {
   "cell_type": "code",
   "execution_count": 12,
   "id": "rDMwEl3woctk",
   "metadata": {
    "id": "rDMwEl3woctk"
   },
   "outputs": [],
   "source": [
    "x_temp = []\n",
    "x_test_final = []\n",
    "y_test_final = []\n",
    "cnt = 0\n",
    "\n",
    "for i, x_ in enumerate(x_test):\n",
    "\n",
    "        img = cv2.imread(x_)\n",
    "        img = cv2.resize(img, (100, 100))\n",
    "        img = img/255.\n",
    "\n",
    "        if (i)%20 == 0 and i!=0:\n",
    "          x_temp = np.array(x_temp)\n",
    "          # print(x_temp.shape)\n",
    "          x_test_final.append(x_temp)\n",
    "          x_temp = []\n",
    "          y_test_final.append(y_test_one_hot[i-1])\n",
    "\n",
    "        x_temp.append(img)\n",
    "        # x_batch.append(img)\n",
    "        # cnt += 1\n",
    "x_temp = np.array(x_temp)\n",
    "x_test_final.append(x_temp)\n",
    "y_test_final.append(y_test_one_hot[i-1])\n",
    "        # y_batch = y[i : i + batch_size]\n",
    "x_test_final = np.array(x_test_final)\n",
    "y_test_final = np.array(y_test_final)\n",
    "# print(x_batch.shape)\n",
    "# print(y_batch.shape)\n"
   ]
  },
  {
   "cell_type": "code",
   "execution_count": 13,
   "id": "xVTHawGVocqG",
   "metadata": {
    "colab": {
     "base_uri": "https://localhost:8080/"
    },
    "id": "xVTHawGVocqG",
    "outputId": "c1752af8-7a1b-48e2-e9cc-8503a32bc003"
   },
   "outputs": [
    {
     "data": {
      "text/plain": [
       "((311, 20, 100, 100, 3), (311, 10))"
      ]
     },
     "execution_count": 13,
     "metadata": {},
     "output_type": "execute_result"
    }
   ],
   "source": [
    "x_test_final.shape, y_test_final.shape"
   ]
  },
  {
   "cell_type": "code",
   "execution_count": 14,
   "id": "fETE9TQXoGJx",
   "metadata": {
    "id": "fETE9TQXoGJx"
   },
   "outputs": [],
   "source": [
    "def my_generator(x, y, batch_size):\n",
    "\n",
    "    while True:\n",
    "\n",
    "        for i in range(0, len(x), batch_size):\n",
    "            x_temp = []\n",
    "            x_batch = []\n",
    "            y_batch = []\n",
    "            cnt = 0\n",
    "\n",
    "            for j, x_ in enumerate(x[i : i + batch_size]):\n",
    "                img = cv2.imread(x_)\n",
    "                img = cv2.resize(img, (100, 100))\n",
    "                img = img/255.\n",
    "\n",
    "                if (cnt)%20 == 0 and cnt!=0:\n",
    "                  x_temp = np.array(x_temp)\n",
    "                  # print(x_temp.shape)\n",
    "                  x_batch.append(x_temp)\n",
    "                  x_temp = []\n",
    "                  y_batch.append(y[i+j-1])\n",
    "\n",
    "                x_temp.append(img)\n",
    "                # x_batch.append(img)\n",
    "                cnt += 1\n",
    "            x_temp = np.array(x_temp)\n",
    "            x_batch.append(x_temp)\n",
    "            y_batch.append(y[i+j-1])\n",
    "            # y_batch = y[i : i + batch_size]\n",
    "            x_batch = np.array(x_batch)\n",
    "            y_batch = np.array(y_batch)\n",
    "            # print(x_batch.shape)\n",
    "            # print(y_batch.shape)\n",
    "\n",
    "            yield x_batch, y_batch"
   ]
  },
  {
   "cell_type": "code",
   "execution_count": 16,
   "id": "WC-aijggojXM",
   "metadata": {
    "id": "WC-aijggojXM"
   },
   "outputs": [],
   "source": [
    "model = models.Sequential([\n",
    "\n",
    "    layers.Conv3D(32, kernel_size=(3, 3, 3), input_shape=(20, 100, 100, 3), padding='same'),\n",
    "    layers.BatchNormalization(),\n",
    "    layers.Activation('relu'),\n",
    "\n",
    "    layers.MaxPooling3D(pool_size=(1, 2, 2)),\n",
    "\n",
    "    layers.Conv3D(64, kernel_size=(3, 3, 3), padding='same'),\n",
    "    layers.BatchNormalization(),\n",
    "    layers.Activation('relu'),\n",
    "\n",
    "    layers.MaxPooling3D(pool_size=(1, 2, 2)),\n",
    "\n",
    "    layers.Conv3D(64, kernel_size=(3, 3, 3), padding='same'),\n",
    "    layers.BatchNormalization(),\n",
    "    layers.Activation('relu'),\n",
    "\n",
    "    layers.MaxPooling3D(pool_size=(1, 2, 2)),\n",
    "\n",
    "    layers.Conv3D(64, kernel_size=(3, 3, 3), padding='same'),\n",
    "    layers.BatchNormalization(),\n",
    "    layers.Activation('relu'),\n",
    "\n",
    "    layers.MaxPooling3D(pool_size=(1, 2, 2)),\n",
    "\n",
    "    layers.TimeDistributed(layers.Flatten()),\n",
    "\n",
    "    layers.LSTM(16),\n",
    "\n",
    "    layers.Dense(64, activation='relu'),\n",
    "    layers.Dropout(0.45),\n",
    "\n",
    "    layers.Dense(10, activation='softmax')\n",
    "])\n",
    "\n",
    "# Compile the model\n",
    "model.compile(optimizer='adam', loss='categorical_crossentropy', metrics=['accuracy'])"
   ]
  },
  {
   "cell_type": "code",
   "execution_count": 17,
   "id": "DwjpQG-kojQa",
   "metadata": {
    "colab": {
     "base_uri": "https://localhost:8080/"
    },
    "id": "DwjpQG-kojQa",
    "outputId": "0eefe625-5ec2-4d60-d8e7-6dcc5740ecde"
   },
   "outputs": [
    {
     "name": "stdout",
     "output_type": "stream",
     "text": [
      "Model: \"sequential_1\"\n",
      "_________________________________________________________________\n",
      " Layer (type)                Output Shape              Param #   \n",
      "=================================================================\n",
      " conv3d_4 (Conv3D)           (None, 20, 100, 100, 32   2624      \n",
      "                             )                                   \n",
      "                                                                 \n",
      " batch_normalization_4 (Bat  (None, 20, 100, 100, 32   128       \n",
      " chNormalization)            )                                   \n",
      "                                                                 \n",
      " activation_4 (Activation)   (None, 20, 100, 100, 32   0         \n",
      "                             )                                   \n",
      "                                                                 \n",
      " max_pooling3d_4 (MaxPoolin  (None, 20, 50, 50, 32)    0         \n",
      " g3D)                                                            \n",
      "                                                                 \n",
      " conv3d_5 (Conv3D)           (None, 20, 50, 50, 64)    55360     \n",
      "                                                                 \n",
      " batch_normalization_5 (Bat  (None, 20, 50, 50, 64)    256       \n",
      " chNormalization)                                                \n",
      "                                                                 \n",
      " activation_5 (Activation)   (None, 20, 50, 50, 64)    0         \n",
      "                                                                 \n",
      " max_pooling3d_5 (MaxPoolin  (None, 20, 25, 25, 64)    0         \n",
      " g3D)                                                            \n",
      "                                                                 \n",
      " conv3d_6 (Conv3D)           (None, 20, 25, 25, 64)    110656    \n",
      "                                                                 \n",
      " batch_normalization_6 (Bat  (None, 20, 25, 25, 64)    256       \n",
      " chNormalization)                                                \n",
      "                                                                 \n",
      " activation_6 (Activation)   (None, 20, 25, 25, 64)    0         \n",
      "                                                                 \n",
      " max_pooling3d_6 (MaxPoolin  (None, 20, 12, 12, 64)    0         \n",
      " g3D)                                                            \n",
      "                                                                 \n",
      " conv3d_7 (Conv3D)           (None, 20, 12, 12, 64)    110656    \n",
      "                                                                 \n",
      " batch_normalization_7 (Bat  (None, 20, 12, 12, 64)    256       \n",
      " chNormalization)                                                \n",
      "                                                                 \n",
      " activation_7 (Activation)   (None, 20, 12, 12, 64)    0         \n",
      "                                                                 \n",
      " max_pooling3d_7 (MaxPoolin  (None, 20, 6, 6, 64)      0         \n",
      " g3D)                                                            \n",
      "                                                                 \n",
      " time_distributed_1 (TimeDi  (None, 20, 2304)          0         \n",
      " stributed)                                                      \n",
      "                                                                 \n",
      " lstm_1 (LSTM)               (None, 16)                148544    \n",
      "                                                                 \n",
      " dense_2 (Dense)             (None, 64)                1088      \n",
      "                                                                 \n",
      " dropout_1 (Dropout)         (None, 64)                0         \n",
      "                                                                 \n",
      " dense_3 (Dense)             (None, 10)                650       \n",
      "                                                                 \n",
      "=================================================================\n",
      "Total params: 430474 (1.64 MB)\n",
      "Trainable params: 430026 (1.64 MB)\n",
      "Non-trainable params: 448 (1.75 KB)\n",
      "_________________________________________________________________\n"
     ]
    }
   ],
   "source": [
    "model.summary()"
   ]
  },
  {
   "cell_type": "code",
   "execution_count": 18,
   "id": "DnCIx80-ojIV",
   "metadata": {
    "colab": {
     "base_uri": "https://localhost:8080/"
    },
    "id": "DnCIx80-ojIV",
    "outputId": "4c7e91ab-ea81-43a7-fb90-4eca4ba0974e"
   },
   "outputs": [
    {
     "name": "stdout",
     "output_type": "stream",
     "text": [
      "Epoch 1/40\n",
      "19/19 [==============================] - 68s 3s/step - loss: 2.3089 - accuracy: 0.1228 - val_loss: 2.2927 - val_accuracy: 0.1415\n",
      "Epoch 2/40\n",
      "19/19 [==============================] - 46s 2s/step - loss: 2.2432 - accuracy: 0.1553 - val_loss: 2.2943 - val_accuracy: 0.1318\n",
      "Epoch 3/40\n",
      "19/19 [==============================] - 37s 2s/step - loss: 2.1835 - accuracy: 0.2093 - val_loss: 2.3082 - val_accuracy: 0.1318\n",
      "Epoch 4/40\n",
      "19/19 [==============================] - 38s 2s/step - loss: 2.1281 - accuracy: 0.2247 - val_loss: 2.3316 - val_accuracy: 0.1318\n",
      "Epoch 5/40\n",
      "19/19 [==============================] - 39s 2s/step - loss: 2.1497 - accuracy: 0.2434 - val_loss: 2.3255 - val_accuracy: 0.1383\n",
      "Epoch 6/40\n",
      "19/19 [==============================] - 37s 2s/step - loss: 2.1307 - accuracy: 0.2280 - val_loss: 2.2860 - val_accuracy: 0.1576\n",
      "Epoch 7/40\n",
      "19/19 [==============================] - 39s 2s/step - loss: 2.0290 - accuracy: 0.2941 - val_loss: 2.2760 - val_accuracy: 0.1350\n",
      "Epoch 8/40\n",
      "19/19 [==============================] - 38s 2s/step - loss: 1.9399 - accuracy: 0.3172 - val_loss: 2.2416 - val_accuracy: 0.1576\n",
      "Epoch 9/40\n",
      "19/19 [==============================] - 37s 2s/step - loss: 1.8942 - accuracy: 0.3546 - val_loss: 2.2024 - val_accuracy: 0.1961\n",
      "Epoch 10/40\n",
      "19/19 [==============================] - 38s 2s/step - loss: 1.7943 - accuracy: 0.3877 - val_loss: 2.1353 - val_accuracy: 0.2219\n",
      "Epoch 11/40\n",
      "19/19 [==============================] - 38s 2s/step - loss: 1.7449 - accuracy: 0.4064 - val_loss: 2.0892 - val_accuracy: 0.2412\n",
      "Epoch 12/40\n",
      "19/19 [==============================] - 38s 2s/step - loss: 1.8396 - accuracy: 0.3502 - val_loss: 1.9525 - val_accuracy: 0.2862\n",
      "Epoch 13/40\n",
      "19/19 [==============================] - 38s 2s/step - loss: 1.6397 - accuracy: 0.4438 - val_loss: 2.0515 - val_accuracy: 0.2572\n",
      "Epoch 14/40\n",
      "19/19 [==============================] - 38s 2s/step - loss: 1.4838 - accuracy: 0.5352 - val_loss: 2.1485 - val_accuracy: 0.2283\n",
      "Epoch 15/40\n",
      "19/19 [==============================] - 38s 2s/step - loss: 1.3300 - accuracy: 0.5815 - val_loss: 2.2106 - val_accuracy: 0.2347\n",
      "Epoch 16/40\n",
      "19/19 [==============================] - 37s 2s/step - loss: 1.2050 - accuracy: 0.6531 - val_loss: 2.0896 - val_accuracy: 0.2765\n",
      "Epoch 17/40\n",
      "19/19 [==============================] - 38s 2s/step - loss: 1.0889 - accuracy: 0.6784 - val_loss: 2.2437 - val_accuracy: 0.2605\n",
      "Epoch 18/40\n",
      "19/19 [==============================] - 38s 2s/step - loss: 1.0358 - accuracy: 0.7148 - val_loss: 1.5426 - val_accuracy: 0.4598\n",
      "Epoch 19/40\n",
      "19/19 [==============================] - 38s 2s/step - loss: 0.9155 - accuracy: 0.7577 - val_loss: 1.6465 - val_accuracy: 0.4212\n",
      "Epoch 20/40\n",
      "19/19 [==============================] - 38s 2s/step - loss: 0.8533 - accuracy: 0.7654 - val_loss: 1.5565 - val_accuracy: 0.4727\n",
      "Epoch 21/40\n",
      "19/19 [==============================] - 38s 2s/step - loss: 0.7971 - accuracy: 0.7840 - val_loss: 1.3014 - val_accuracy: 0.5466\n",
      "Epoch 22/40\n",
      "19/19 [==============================] - 38s 2s/step - loss: 0.6974 - accuracy: 0.8073 - val_loss: 1.2030 - val_accuracy: 0.5852\n",
      "Epoch 23/40\n",
      "19/19 [==============================] - 38s 2s/step - loss: 0.5959 - accuracy: 0.8645 - val_loss: 1.3099 - val_accuracy: 0.5756\n",
      "Epoch 24/40\n",
      "19/19 [==============================] - 38s 2s/step - loss: 0.5823 - accuracy: 0.8546 - val_loss: 0.9306 - val_accuracy: 0.7042\n",
      "Epoch 25/40\n",
      "19/19 [==============================] - 38s 2s/step - loss: 0.5208 - accuracy: 0.8656 - val_loss: 0.9665 - val_accuracy: 0.6945\n",
      "Epoch 26/40\n",
      "19/19 [==============================] - 38s 2s/step - loss: 0.4562 - accuracy: 0.8921 - val_loss: 0.8950 - val_accuracy: 0.7363\n",
      "Epoch 27/40\n",
      "19/19 [==============================] - 39s 2s/step - loss: 0.4401 - accuracy: 0.8976 - val_loss: 0.9407 - val_accuracy: 0.7235\n",
      "Epoch 28/40\n",
      "19/19 [==============================] - 38s 2s/step - loss: 0.3639 - accuracy: 0.9119 - val_loss: 1.0074 - val_accuracy: 0.6913\n",
      "Epoch 29/40\n",
      "19/19 [==============================] - 38s 2s/step - loss: 0.3157 - accuracy: 0.9284 - val_loss: 0.8471 - val_accuracy: 0.7428\n",
      "Epoch 30/40\n",
      "19/19 [==============================] - 39s 2s/step - loss: 0.2790 - accuracy: 0.9438 - val_loss: 1.1214 - val_accuracy: 0.6592\n",
      "Epoch 31/40\n",
      "19/19 [==============================] - 38s 2s/step - loss: 0.2612 - accuracy: 0.9515 - val_loss: 0.7139 - val_accuracy: 0.7781\n",
      "Epoch 32/40\n",
      "19/19 [==============================] - 38s 2s/step - loss: 0.2932 - accuracy: 0.9328 - val_loss: 0.8632 - val_accuracy: 0.7428\n",
      "Epoch 33/40\n",
      "19/19 [==============================] - 38s 2s/step - loss: 0.2762 - accuracy: 0.9449 - val_loss: 1.0416 - val_accuracy: 0.6881\n",
      "Epoch 34/40\n",
      "19/19 [==============================] - 38s 2s/step - loss: 0.2168 - accuracy: 0.9626 - val_loss: 0.8946 - val_accuracy: 0.7781\n",
      "Epoch 35/40\n",
      "19/19 [==============================] - 38s 2s/step - loss: 0.1748 - accuracy: 0.9692 - val_loss: 0.7502 - val_accuracy: 0.7910\n",
      "Epoch 36/40\n",
      "19/19 [==============================] - 38s 2s/step - loss: 0.1581 - accuracy: 0.9747 - val_loss: 0.7189 - val_accuracy: 0.8039\n",
      "Epoch 37/40\n",
      "19/19 [==============================] - 39s 2s/step - loss: 0.1484 - accuracy: 0.9769 - val_loss: 0.5901 - val_accuracy: 0.8167\n",
      "Epoch 38/40\n",
      "19/19 [==============================] - 38s 2s/step - loss: 0.1234 - accuracy: 0.9791 - val_loss: 0.5774 - val_accuracy: 0.8392\n",
      "Epoch 39/40\n",
      "19/19 [==============================] - 38s 2s/step - loss: 0.0962 - accuracy: 0.9901 - val_loss: 0.6898 - val_accuracy: 0.8006\n",
      "Epoch 40/40\n",
      "19/19 [==============================] - 38s 2s/step - loss: 0.0905 - accuracy: 0.9879 - val_loss: 0.5702 - val_accuracy: 0.8360\n"
     ]
    }
   ],
   "source": [
    "hist = model.fit(my_generator(x_train, y_train_one_hot, 960), steps_per_epoch=len(x_train)//960, epochs=40, validation_data=(x_test_final, y_test_final)) # 40-49"
   ]
  },
  {
   "cell_type": "code",
   "execution_count": 19,
   "id": "Hd12SJnloGGc",
   "metadata": {
    "colab": {
     "base_uri": "https://localhost:8080/",
     "height": 449
    },
    "id": "Hd12SJnloGGc",
    "outputId": "116dac94-ff54-48b7-f982-c7303a8a64f5"
   },
   "outputs": [
    {
     "data": {
      "image/png": "[encoded data removed]",
      "text/plain": [
       "<Figure size 640x480 with 1 Axes>"
      ]
     },
     "metadata": {},
     "output_type": "display_data"
    }
   ],
   "source": [
    "# Plotting the loss value during training\n",
    "plt.plot(hist.history[\"loss\"], label=\"loss\")\n",
    "plt.plot(hist.history[\"val_loss\"], label=\"val_loss\")\n",
    "plt.xlabel(\"epochs\")\n",
    "plt.ylabel(\"CrossEntropy error\")\n",
    "plt.legend()\n",
    "plt.show()"
   ]
  },
  {
   "cell_type": "code",
   "execution_count": 20,
   "id": "rRKei08WoF-b",
   "metadata": {
    "colab": {
     "base_uri": "https://localhost:8080/",
     "height": 449
    },
    "id": "rRKei08WoF-b",
    "outputId": "ec32b284-297b-4b09-cb8f-ae6c38e577c0"
   },
   "outputs": [
    {
     "data": {
      "image/png": "[encoded data removed]",
      "text/plain": [
       "<Figure size 640x480 with 1 Axes>"
      ]
     },
     "metadata": {},
     "output_type": "display_data"
    }
   ],
   "source": [
    "# Plotting the MAE value during training\n",
    "plt.plot(hist.history[\"accuracy\"], label=\"accuracy\")\n",
    "plt.plot(hist.history[\"val_accuracy\"], label=\"val_accuracy\")\n",
    "plt.xlabel(\"epochs\")\n",
    "plt.ylabel(\"Accuracy\")\n",
    "plt.legend()\n",
    "plt.show()"
   ]
  }
 ],
 "metadata": {
  "accelerator": "GPU",
  "colab": {
   "gpuType": "T4",
   "provenance": []
  },
  "kernelspec": {
   "display_name": "Python 3 (ipykernel)",
   "language": "python",
   "name": "python3"
  },
  "language_info": {
   "codemirror_mode": {
    "name": "ipython",
    "version": 3
   },
   "file_extension": ".py",
   "mimetype": "text/x-python",
   "name": "python",
   "nbconvert_exporter": "python",
   "pygments_lexer": "ipython3",
   "version": "3.11.5"
  }
 },
 "nbformat": 4,
 "nbformat_minor": 5
}
