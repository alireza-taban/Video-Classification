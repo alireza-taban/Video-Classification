{
 "cells": [
  {
   "cell_type": "markdown",
   "id": "14ce3f43",
   "metadata": {},
   "source": [
    "# Deep Learning HW4\n",
    "## Alireza Taban - 40105424"
   ]
  },
  {
   "cell_type": "code",
   "execution_count": 1,
   "id": "e6a1f427",
   "metadata": {
    "id": "e6a1f427"
   },
   "outputs": [
    {
     "name": "stdout",
     "output_type": "stream",
     "text": [
      "WARNING:tensorflow:From E:\\Anaconda\\Lib\\site-packages\\keras\\src\\losses.py:2976: The name tf.losses.sparse_softmax_cross_entropy is deprecated. Please use tf.compat.v1.losses.sparse_softmax_cross_entropy instead.\n",
      "\n"
     ]
    }
   ],
   "source": [
    "# Importing all necessary libraries\n",
    "import cv2\n",
    "import os\n",
    "import glob\n",
    "import matplotlib.pyplot as plt\n",
    "import numpy as np\n",
    "import random\n",
    "from tensorflow.keras import layers, models\n",
    "import tensorflow as tf\n",
    "from keras.utils import to_categorical"
   ]
  },
  {
   "cell_type": "code",
   "execution_count": 2,
   "id": "e2375b50",
   "metadata": {},
   "outputs": [],
   "source": [
    "mySeed = 42\n",
    "np.random.seed(mySeed)\n",
    "random.seed(mySeed)\n",
    "tf.random.set_seed(mySeed)"
   ]
  },
  {
   "cell_type": "code",
   "execution_count": null,
   "id": "om66qL4voGvm",
   "metadata": {
    "id": "om66qL4voGvm"
   },
   "outputs": [],
   "source": [
    "!wget --no-check-certificate -O UCF50.rar https://www.crcv.ucf.edu/data/UCF50.rar\n",
    "!unrar x UCF50.rar\n",
    "!rm -rf UCF50.rar"
   ]
  },
  {
   "cell_type": "code",
   "execution_count": null,
   "id": "H1MRzEVGoGqB",
   "metadata": {
    "id": "H1MRzEVGoGqB"
   },
   "outputs": [],
   "source": [
    "# video_path = \"UCF50\\\\*\\\\*.avi\"\n",
    "video_path = \"/content/UCF50/*/*.avi\"\n",
    "temp = ''\n",
    "for index, video_address in enumerate(sorted(glob.glob(video_path))):\n",
    "    # class_label = video_address.split('\\\\')[1]\n",
    "    # image_name = video_address.split('\\\\')[-1]\n",
    "    class_label = video_address.split('/')[-2]\n",
    "    image_name = video_address.split('/')[-1]\n",
    "    cam = cv2.VideoCapture(video_address)\n",
    "\n",
    "    if class_label != temp:\n",
    "        # path = 'data\\\\'+class_label\n",
    "        path = '/content/data/'+class_label\n",
    "        os.makedirs(path)\n",
    "        video_counter = 0\n",
    "        print ('Extracting ' + class_label + ' video frames...')\n",
    "    temp = class_label\n",
    "    # frames_path = path + '\\\\' + str(video_counter)\n",
    "    frames_path = path + '/' + str(video_counter)\n",
    "    os.makedirs(frames_path)\n",
    "    frame_counter = 0\n",
    "    while(frame_counter<20):\n",
    "\n",
    "        # reading from frame\n",
    "        ret,frame = cam.read()\n",
    "\n",
    "        if ret:\n",
    "            # if video is still left continue creating images\n",
    "            # name = frames_path + '\\\\' + str(frame_counter) + '.jpg'\n",
    "            name = frames_path + '/' + str(frame_counter) + '.jpg'\n",
    "            # writing the extracted images\n",
    "            cv2.imwrite(name, frame)\n",
    "        else:\n",
    "            break\n",
    "\n",
    "        frame_counter += 1\n",
    "    video_counter += 1\n",
    "#     data[class_label] ="
   ]
  },
  {
   "cell_type": "code",
   "execution_count": 4,
   "id": "oX6SLnYUoGlc",
   "metadata": {
    "id": "oX6SLnYUoGlc"
   },
   "outputs": [],
   "source": [
    "labels = dict()\n",
    "# for index, label_address in enumerate(glob.glob(\"data\\\\*\")):\n",
    "for index, label_address in enumerate(sorted(glob.glob(\"/content/data/*\"))):\n",
    "    # l = label_address.split('\\\\')[-1]\n",
    "    l = label_address.split('/')[-1]\n",
    "    labels[l] = index"
   ]
  },
  {
   "cell_type": "code",
   "execution_count": 5,
   "id": "7LkrYkumoGit",
   "metadata": {
    "id": "7LkrYkumoGit"
   },
   "outputs": [],
   "source": [
    "list_of_labels = []\n",
    "count = 0\n",
    "tmp = dict()\n",
    "\n",
    "for i, l in enumerate(labels):\n",
    "  if (count)%10 == 0 and count !=0:\n",
    "    list_of_labels.append(tmp)\n",
    "    tmp = dict()\n",
    "  count += 1\n",
    "  tmp[l] = i%10\n",
    "list_of_labels.append(tmp)"
   ]
  },
  {
   "cell_type": "code",
   "execution_count": 6,
   "id": "Mjlk2vf1oGf0",
   "metadata": {
    "id": "Mjlk2vf1oGf0"
   },
   "outputs": [],
   "source": [
    "x_train_temp = list()\n",
    "y_train_temp = list()\n",
    "x_test_temp = list()\n",
    "y_test_temp = list()"
   ]
  },
  {
   "cell_type": "code",
   "execution_count": 7,
   "id": "hEkscs9XoGdP",
   "metadata": {
    "id": "hEkscs9XoGdP"
   },
   "outputs": [],
   "source": [
    "labels_ = list_of_labels[2]\n",
    "for label in labels_:\n",
    "    # temp_path = 'data\\\\'+ label + '\\\\*'\n",
    "    temp_path = '/content/data/'+ label + '/*'\n",
    "    temp_list = list()\n",
    "    for index, video_address in enumerate(sorted(glob.glob(temp_path))):\n",
    "        # temp_list.append(video_address+'\\\\*.jpg')\n",
    "        temp_list.append(video_address+'/*.jpg')\n",
    "    random.shuffle(temp_list)\n",
    "    temp_len = len(temp_list)\n",
    "    threshold = int(np.floor(.75*temp_len))\n",
    "    x_train_temp.extend(temp_list[:threshold])\n",
    "    temp_label = np.ones(threshold)*labels_[label]\n",
    "    y_train_temp.extend(list(temp_label))\n",
    "    x_test_temp.extend(temp_list[threshold+1:])\n",
    "    temp_label = np.ones(temp_len-threshold-1)*labels_[label]\n",
    "    y_test_temp.extend(list(temp_label))"
   ]
  },
  {
   "cell_type": "code",
   "execution_count": 8,
   "id": "ljuIIUm2oGaa",
   "metadata": {
    "colab": {
     "base_uri": "https://localhost:8080/"
    },
    "id": "ljuIIUm2oGaa",
    "outputId": "f5c85736-4600-4888-d7d7-d7a97b6c7b41"
   },
   "outputs": [
    {
     "data": {
      "text/plain": [
       "{'Lunges': 0,\n",
       " 'MilitaryParade': 1,\n",
       " 'Mixing': 2,\n",
       " 'Nunchucks': 3,\n",
       " 'PizzaTossing': 4,\n",
       " 'PlayingGuitar': 5,\n",
       " 'PlayingPiano': 6,\n",
       " 'PlayingTabla': 7,\n",
       " 'PlayingViolin': 8,\n",
       " 'PoleVault': 9}"
      ]
     },
     "execution_count": 8,
     "metadata": {},
     "output_type": "execute_result"
    }
   ],
   "source": [
    "list_of_labels[2]"
   ]
  },
  {
   "cell_type": "code",
   "execution_count": 9,
   "id": "5NnxvzNMoGX1",
   "metadata": {
    "id": "5NnxvzNMoGX1"
   },
   "outputs": [],
   "source": [
    "indices = np.arange(len(x_train_temp))\n",
    "np.random.shuffle(indices)\n",
    "\n",
    "x_train_temp = [x_train_temp[i] for i in indices]\n",
    "y_train_temp = [y_train_temp[i] for i in indices]"
   ]
  },
  {
   "cell_type": "code",
   "execution_count": 10,
   "id": "GMwLv_XCoGUz",
   "metadata": {
    "id": "GMwLv_XCoGUz"
   },
   "outputs": [],
   "source": [
    "x_train = list()\n",
    "y_train = list()\n",
    "x_test = list()\n",
    "y_test = list()"
   ]
  },
  {
   "cell_type": "code",
   "execution_count": 11,
   "id": "jD-xwnjGoGSC",
   "metadata": {
    "id": "jD-xwnjGoGSC"
   },
   "outputs": [],
   "source": [
    "for index, video_address in enumerate(x_train_temp):\n",
    "    for image_address in sorted(glob.glob(video_address), key=lambda x: int(x.split(\"/\")[-1].split(\".\")[0])):\n",
    "        x_train.append(image_address)\n",
    "        y_train.append(y_train_temp[index])\n",
    "\n",
    "del x_train_temp\n",
    "del y_train_temp\n",
    "\n",
    "for index, video_address in enumerate(x_test_temp):\n",
    "    for image_address in sorted(glob.glob(video_address), key=lambda x: int(x.split(\"/\")[-1].split(\".\")[0])):\n",
    "        x_test.append(image_address)\n",
    "        y_test.append(y_test_temp[index])\n",
    "\n",
    "del x_test_temp\n",
    "del y_test_temp"
   ]
  },
  {
   "cell_type": "code",
   "execution_count": 12,
   "id": "eS11OJtVoGPM",
   "metadata": {
    "id": "eS11OJtVoGPM"
   },
   "outputs": [],
   "source": [
    "y_train = np.array(y_train)\n",
    "y_test = np.array(y_test)"
   ]
  },
  {
   "cell_type": "code",
   "execution_count": 13,
   "id": "dpd7RWwJoGMr",
   "metadata": {
    "colab": {
     "base_uri": "https://localhost:8080/"
    },
    "id": "dpd7RWwJoGMr",
    "outputId": "d4327e12-45b0-4454-b73e-ad48fd85844e"
   },
   "outputs": [
    {
     "data": {
      "text/plain": [
       "((19760, 10), (6480, 10))"
      ]
     },
     "execution_count": 13,
     "metadata": {},
     "output_type": "execute_result"
    }
   ],
   "source": [
    "# Convert to one-hot encoding\n",
    "y_train_one_hot = to_categorical(y_train, num_classes=10)\n",
    "y_test_one_hot = to_categorical(y_test, num_classes=10)\n",
    "y_train_one_hot.shape, y_test_one_hot.shape"
   ]
  },
  {
   "cell_type": "code",
   "execution_count": 14,
   "id": "rDMwEl3woctk",
   "metadata": {
    "id": "rDMwEl3woctk"
   },
   "outputs": [],
   "source": [
    "x_temp = []\n",
    "x_test_final = []\n",
    "y_test_final = []\n",
    "cnt = 0\n",
    "\n",
    "for i, x_ in enumerate(x_test):\n",
    "\n",
    "        img = cv2.imread(x_)\n",
    "        img = cv2.resize(img, (100, 100))\n",
    "        img = img/255.\n",
    "\n",
    "        if (i)%20 == 0 and i!=0:\n",
    "          x_temp = np.array(x_temp)\n",
    "          # print(x_temp.shape)\n",
    "          x_test_final.append(x_temp)\n",
    "          x_temp = []\n",
    "          y_test_final.append(y_test_one_hot[i-1])\n",
    "\n",
    "        x_temp.append(img)\n",
    "        # x_batch.append(img)\n",
    "        # cnt += 1\n",
    "x_temp = np.array(x_temp)\n",
    "x_test_final.append(x_temp)\n",
    "y_test_final.append(y_test_one_hot[i-1])\n",
    "        # y_batch = y[i : i + batch_size]\n",
    "x_test_final = np.array(x_test_final)\n",
    "y_test_final = np.array(y_test_final)\n",
    "# print(x_batch.shape)\n",
    "# print(y_batch.shape)\n"
   ]
  },
  {
   "cell_type": "code",
   "execution_count": 15,
   "id": "xVTHawGVocqG",
   "metadata": {
    "colab": {
     "base_uri": "https://localhost:8080/"
    },
    "id": "xVTHawGVocqG",
    "outputId": "93267742-bef6-4255-c46a-87bb720b6f2e"
   },
   "outputs": [
    {
     "data": {
      "text/plain": [
       "((324, 20, 100, 100, 3), (324, 10))"
      ]
     },
     "execution_count": 15,
     "metadata": {},
     "output_type": "execute_result"
    }
   ],
   "source": [
    "x_test_final.shape, y_test_final.shape"
   ]
  },
  {
   "cell_type": "code",
   "execution_count": 16,
   "id": "fETE9TQXoGJx",
   "metadata": {
    "id": "fETE9TQXoGJx"
   },
   "outputs": [],
   "source": [
    "def my_generator(x, y, batch_size):\n",
    "\n",
    "    while True:\n",
    "\n",
    "        for i in range(0, len(x), batch_size):\n",
    "            x_temp = []\n",
    "            x_batch = []\n",
    "            y_batch = []\n",
    "            cnt = 0\n",
    "\n",
    "            for j, x_ in enumerate(x[i : i + batch_size]):\n",
    "                img = cv2.imread(x_)\n",
    "                img = cv2.resize(img, (100, 100))\n",
    "                img = img/255.\n",
    "\n",
    "                if (cnt)%20 == 0 and cnt!=0:\n",
    "                  x_temp = np.array(x_temp)\n",
    "                  # print(x_temp.shape)\n",
    "                  x_batch.append(x_temp)\n",
    "                  x_temp = []\n",
    "                  y_batch.append(y[i+j-1])\n",
    "\n",
    "                x_temp.append(img)\n",
    "                # x_batch.append(img)\n",
    "                cnt += 1\n",
    "            x_temp = np.array(x_temp)\n",
    "            x_batch.append(x_temp)\n",
    "            y_batch.append(y[i+j-1])\n",
    "            # y_batch = y[i : i + batch_size]\n",
    "            x_batch = np.array(x_batch)\n",
    "            y_batch = np.array(y_batch)\n",
    "            # print(x_batch.shape)\n",
    "            # print(y_batch.shape)\n",
    "\n",
    "            yield x_batch, y_batch"
   ]
  },
  {
   "cell_type": "code",
   "execution_count": 20,
   "id": "WC-aijggojXM",
   "metadata": {
    "id": "WC-aijggojXM"
   },
   "outputs": [],
   "source": [
    "model = models.Sequential([\n",
    "\n",
    "    layers.Conv3D(32, kernel_size=(3, 3, 3), input_shape=(20, 100, 100, 3), padding='same'),\n",
    "    layers.BatchNormalization(),\n",
    "    layers.Activation('relu'),\n",
    "\n",
    "    layers.MaxPooling3D(pool_size=(1, 2, 2)),\n",
    "\n",
    "    layers.Conv3D(64, kernel_size=(3, 3, 3), padding='same'),\n",
    "    layers.BatchNormalization(),\n",
    "    layers.Activation('relu'),\n",
    "\n",
    "    layers.MaxPooling3D(pool_size=(1, 2, 2)),\n",
    "\n",
    "    layers.Conv3D(64, kernel_size=(3, 3, 3), padding='same'),\n",
    "    layers.BatchNormalization(),\n",
    "    layers.Activation('relu'),\n",
    "\n",
    "    layers.MaxPooling3D(pool_size=(1, 2, 2)),\n",
    "\n",
    "    layers.Conv3D(64, kernel_size=(3, 3, 3), padding='same'),\n",
    "    layers.BatchNormalization(),\n",
    "    layers.Activation('relu'),\n",
    "\n",
    "    layers.MaxPooling3D(pool_size=(1, 2, 2)),\n",
    "\n",
    "    layers.TimeDistributed(layers.Flatten()),\n",
    "\n",
    "    layers.LSTM(16),\n",
    "\n",
    "    layers.Dense(64, activation='relu'),\n",
    "    layers.Dropout(0.45),\n",
    "\n",
    "    layers.Dense(10, activation='softmax')\n",
    "])\n",
    "\n",
    "# Compile the model\n",
    "model.compile(optimizer='adam', loss='categorical_crossentropy', metrics=['accuracy'])"
   ]
  },
  {
   "cell_type": "code",
   "execution_count": 21,
   "id": "DwjpQG-kojQa",
   "metadata": {
    "colab": {
     "base_uri": "https://localhost:8080/"
    },
    "id": "DwjpQG-kojQa",
    "outputId": "2a1eafc3-91af-4619-a6d0-83fcd8368eb9"
   },
   "outputs": [
    {
     "name": "stdout",
     "output_type": "stream",
     "text": [
      "Model: \"sequential_1\"\n",
      "_________________________________________________________________\n",
      " Layer (type)                Output Shape              Param #   \n",
      "=================================================================\n",
      " conv3d_4 (Conv3D)           (None, 20, 100, 100, 32   2624      \n",
      "                             )                                   \n",
      "                                                                 \n",
      " batch_normalization_4 (Bat  (None, 20, 100, 100, 32   128       \n",
      " chNormalization)            )                                   \n",
      "                                                                 \n",
      " activation_4 (Activation)   (None, 20, 100, 100, 32   0         \n",
      "                             )                                   \n",
      "                                                                 \n",
      " max_pooling3d_4 (MaxPoolin  (None, 20, 50, 50, 32)    0         \n",
      " g3D)                                                            \n",
      "                                                                 \n",
      " conv3d_5 (Conv3D)           (None, 20, 50, 50, 64)    55360     \n",
      "                                                                 \n",
      " batch_normalization_5 (Bat  (None, 20, 50, 50, 64)    256       \n",
      " chNormalization)                                                \n",
      "                                                                 \n",
      " activation_5 (Activation)   (None, 20, 50, 50, 64)    0         \n",
      "                                                                 \n",
      " max_pooling3d_5 (MaxPoolin  (None, 20, 25, 25, 64)    0         \n",
      " g3D)                                                            \n",
      "                                                                 \n",
      " conv3d_6 (Conv3D)           (None, 20, 25, 25, 64)    110656    \n",
      "                                                                 \n",
      " batch_normalization_6 (Bat  (None, 20, 25, 25, 64)    256       \n",
      " chNormalization)                                                \n",
      "                                                                 \n",
      " activation_6 (Activation)   (None, 20, 25, 25, 64)    0         \n",
      "                                                                 \n",
      " max_pooling3d_6 (MaxPoolin  (None, 20, 12, 12, 64)    0         \n",
      " g3D)                                                            \n",
      "                                                                 \n",
      " conv3d_7 (Conv3D)           (None, 20, 12, 12, 64)    110656    \n",
      "                                                                 \n",
      " batch_normalization_7 (Bat  (None, 20, 12, 12, 64)    256       \n",
      " chNormalization)                                                \n",
      "                                                                 \n",
      " activation_7 (Activation)   (None, 20, 12, 12, 64)    0         \n",
      "                                                                 \n",
      " max_pooling3d_7 (MaxPoolin  (None, 20, 6, 6, 64)      0         \n",
      " g3D)                                                            \n",
      "                                                                 \n",
      " time_distributed_1 (TimeDi  (None, 20, 2304)          0         \n",
      " stributed)                                                      \n",
      "                                                                 \n",
      " lstm_1 (LSTM)               (None, 16)                148544    \n",
      "                                                                 \n",
      " dense_2 (Dense)             (None, 64)                1088      \n",
      "                                                                 \n",
      " dropout_1 (Dropout)         (None, 64)                0         \n",
      "                                                                 \n",
      " dense_3 (Dense)             (None, 10)                650       \n",
      "                                                                 \n",
      "=================================================================\n",
      "Total params: 430474 (1.64 MB)\n",
      "Trainable params: 430026 (1.64 MB)\n",
      "Non-trainable params: 448 (1.75 KB)\n",
      "_________________________________________________________________\n"
     ]
    }
   ],
   "source": [
    "model.summary()"
   ]
  },
  {
   "cell_type": "code",
   "execution_count": 22,
   "id": "DnCIx80-ojIV",
   "metadata": {
    "colab": {
     "base_uri": "https://localhost:8080/"
    },
    "id": "DnCIx80-ojIV",
    "outputId": "6fbda10f-f4a9-4565-f0a0-020c849c962f"
   },
   "outputs": [
    {
     "name": "stdout",
     "output_type": "stream",
     "text": [
      "Epoch 1/40\n",
      "20/20 [==============================] - 56s 2s/step - loss: 2.2946 - accuracy: 0.1292 - val_loss: 2.2877 - val_accuracy: 0.1080\n",
      "Epoch 2/40\n",
      "20/20 [==============================] - 42s 2s/step - loss: 2.2205 - accuracy: 0.1926 - val_loss: 2.2947 - val_accuracy: 0.1420\n",
      "Epoch 3/40\n",
      "20/20 [==============================] - 37s 2s/step - loss: 2.1476 - accuracy: 0.2319 - val_loss: 2.3459 - val_accuracy: 0.1142\n",
      "Epoch 4/40\n",
      "20/20 [==============================] - 34s 2s/step - loss: 2.0826 - accuracy: 0.2915 - val_loss: 2.3754 - val_accuracy: 0.1512\n",
      "Epoch 5/40\n",
      "20/20 [==============================] - 36s 2s/step - loss: 2.0003 - accuracy: 0.3309 - val_loss: 2.5101 - val_accuracy: 0.1358\n",
      "Epoch 6/40\n",
      "20/20 [==============================] - 35s 2s/step - loss: 1.8793 - accuracy: 0.3777 - val_loss: 2.5736 - val_accuracy: 0.1759\n",
      "Epoch 7/40\n",
      "20/20 [==============================] - 36s 2s/step - loss: 1.7531 - accuracy: 0.4447 - val_loss: 2.4344 - val_accuracy: 0.1667\n",
      "Epoch 8/40\n",
      "20/20 [==============================] - 35s 2s/step - loss: 1.6958 - accuracy: 0.4787 - val_loss: 2.4851 - val_accuracy: 0.1698\n",
      "Epoch 9/40\n",
      "20/20 [==============================] - 35s 2s/step - loss: 1.5456 - accuracy: 0.5319 - val_loss: 2.5624 - val_accuracy: 0.1667\n",
      "Epoch 10/40\n",
      "20/20 [==============================] - 36s 2s/step - loss: 1.4565 - accuracy: 0.5617 - val_loss: 2.3847 - val_accuracy: 0.2438\n",
      "Epoch 11/40\n",
      "20/20 [==============================] - 35s 2s/step - loss: 1.3495 - accuracy: 0.6000 - val_loss: 2.2530 - val_accuracy: 0.2809\n",
      "Epoch 12/40\n",
      "20/20 [==============================] - 35s 2s/step - loss: 1.1637 - accuracy: 0.6511 - val_loss: 2.1385 - val_accuracy: 0.2840\n",
      "Epoch 13/40\n",
      "20/20 [==============================] - 35s 2s/step - loss: 1.0623 - accuracy: 0.6851 - val_loss: 1.8992 - val_accuracy: 0.2932\n",
      "Epoch 14/40\n",
      "20/20 [==============================] - 36s 2s/step - loss: 0.9934 - accuracy: 0.7149 - val_loss: 1.8105 - val_accuracy: 0.3549\n",
      "Epoch 15/40\n",
      "20/20 [==============================] - 35s 2s/step - loss: 0.9279 - accuracy: 0.7372 - val_loss: 1.9200 - val_accuracy: 0.3333\n",
      "Epoch 16/40\n",
      "20/20 [==============================] - 35s 2s/step - loss: 0.8470 - accuracy: 0.7564 - val_loss: 1.9559 - val_accuracy: 0.3796\n",
      "Epoch 17/40\n",
      "20/20 [==============================] - 36s 2s/step - loss: 0.7718 - accuracy: 0.7883 - val_loss: 1.9042 - val_accuracy: 0.3704\n",
      "Epoch 18/40\n",
      "20/20 [==============================] - 34s 2s/step - loss: 0.6680 - accuracy: 0.8287 - val_loss: 1.6109 - val_accuracy: 0.4475\n",
      "Epoch 19/40\n",
      "20/20 [==============================] - 35s 2s/step - loss: 0.5699 - accuracy: 0.8745 - val_loss: 1.4239 - val_accuracy: 0.4815\n",
      "Epoch 20/40\n",
      "20/20 [==============================] - 35s 2s/step - loss: 0.5402 - accuracy: 0.8564 - val_loss: 1.1787 - val_accuracy: 0.5957\n",
      "Epoch 21/40\n",
      "20/20 [==============================] - 35s 2s/step - loss: 0.5200 - accuracy: 0.8755 - val_loss: 1.0954 - val_accuracy: 0.6235\n",
      "Epoch 22/40\n",
      "20/20 [==============================] - 37s 2s/step - loss: 0.4434 - accuracy: 0.9052 - val_loss: 0.9136 - val_accuracy: 0.7068\n",
      "Epoch 23/40\n",
      "20/20 [==============================] - 34s 2s/step - loss: 0.3881 - accuracy: 0.9202 - val_loss: 1.2498 - val_accuracy: 0.5525\n",
      "Epoch 24/40\n",
      "20/20 [==============================] - 35s 2s/step - loss: 0.3181 - accuracy: 0.9372 - val_loss: 0.7446 - val_accuracy: 0.7932\n",
      "Epoch 25/40\n",
      "20/20 [==============================] - 35s 2s/step - loss: 0.2794 - accuracy: 0.9532 - val_loss: 1.1810 - val_accuracy: 0.6327\n",
      "Epoch 26/40\n",
      "20/20 [==============================] - 36s 2s/step - loss: 0.2275 - accuracy: 0.9691 - val_loss: 1.2994 - val_accuracy: 0.6049\n",
      "Epoch 27/40\n",
      "20/20 [==============================] - 36s 2s/step - loss: 0.2087 - accuracy: 0.9649 - val_loss: 1.0077 - val_accuracy: 0.6728\n",
      "Epoch 28/40\n",
      "20/20 [==============================] - 35s 2s/step - loss: 0.1861 - accuracy: 0.9702 - val_loss: 0.9729 - val_accuracy: 0.7377\n",
      "Epoch 29/40\n",
      "20/20 [==============================] - 35s 2s/step - loss: 0.1908 - accuracy: 0.9713 - val_loss: 0.5699 - val_accuracy: 0.8364\n",
      "Epoch 30/40\n",
      "20/20 [==============================] - 35s 2s/step - loss: 0.1575 - accuracy: 0.9809 - val_loss: 0.5220 - val_accuracy: 0.8519\n",
      "Epoch 31/40\n",
      "20/20 [==============================] - 35s 2s/step - loss: 0.1625 - accuracy: 0.9755 - val_loss: 0.6052 - val_accuracy: 0.8272\n",
      "Epoch 32/40\n",
      "20/20 [==============================] - 35s 2s/step - loss: 0.1366 - accuracy: 0.9798 - val_loss: 0.8221 - val_accuracy: 0.7778\n",
      "Epoch 33/40\n",
      "20/20 [==============================] - 36s 2s/step - loss: 0.1144 - accuracy: 0.9830 - val_loss: 0.7260 - val_accuracy: 0.7994\n",
      "Epoch 34/40\n",
      "20/20 [==============================] - 36s 2s/step - loss: 0.0997 - accuracy: 0.9915 - val_loss: 0.5370 - val_accuracy: 0.8611\n",
      "Epoch 35/40\n",
      "20/20 [==============================] - 35s 2s/step - loss: 0.0981 - accuracy: 0.9872 - val_loss: 0.4554 - val_accuracy: 0.8704\n",
      "Epoch 36/40\n",
      "20/20 [==============================] - 36s 2s/step - loss: 0.0760 - accuracy: 0.9936 - val_loss: 0.5720 - val_accuracy: 0.8333\n",
      "Epoch 37/40\n",
      "20/20 [==============================] - 35s 2s/step - loss: 0.0847 - accuracy: 0.9904 - val_loss: 0.5646 - val_accuracy: 0.8302\n",
      "Epoch 38/40\n",
      "20/20 [==============================] - 36s 2s/step - loss: 0.0977 - accuracy: 0.9809 - val_loss: 0.8018 - val_accuracy: 0.7963\n",
      "Epoch 39/40\n",
      "20/20 [==============================] - 35s 2s/step - loss: 0.0973 - accuracy: 0.9840 - val_loss: 0.5684 - val_accuracy: 0.8210\n",
      "Epoch 40/40\n",
      "20/20 [==============================] - 36s 2s/step - loss: 0.0753 - accuracy: 0.9926 - val_loss: 0.7251 - val_accuracy: 0.8056\n"
     ]
    }
   ],
   "source": [
    "hist = model.fit(my_generator(x_train, y_train_one_hot, 960), steps_per_epoch=len(x_train)//960, epochs=40, validation_data=(x_test_final, y_test_final)) # 20-29"
   ]
  },
  {
   "cell_type": "code",
   "execution_count": 23,
   "id": "Hd12SJnloGGc",
   "metadata": {
    "colab": {
     "base_uri": "https://localhost:8080/",
     "height": 449
    },
    "id": "Hd12SJnloGGc",
    "outputId": "2db22c51-4f7e-4028-f40a-0f0f607d7860"
   },
   "outputs": [
    {
     "data": {
      "image/png": "[encoded data removed]",
      "text/plain": [
       "<Figure size 640x480 with 1 Axes>"
      ]
     },
     "metadata": {},
     "output_type": "display_data"
    }
   ],
   "source": [
    "# Plotting the loss value during training\n",
    "plt.plot(hist.history[\"loss\"], label=\"loss\")\n",
    "plt.plot(hist.history[\"val_loss\"], label=\"val_loss\")\n",
    "plt.xlabel(\"epochs\")\n",
    "plt.ylabel(\"CrossEntropy error\")\n",
    "plt.legend()\n",
    "plt.show()"
   ]
  },
  {
   "cell_type": "code",
   "execution_count": 24,
   "id": "rRKei08WoF-b",
   "metadata": {
    "colab": {
     "base_uri": "https://localhost:8080/",
     "height": 449
    },
    "id": "rRKei08WoF-b",
    "outputId": "d7aa7fa8-5456-47da-8149-3b3e58a8eaae"
   },
   "outputs": [
    {
     "data": {
      "image/png": "[encoded data removed]",
      "text/plain": [
       "<Figure size 640x480 with 1 Axes>"
      ]
     },
     "metadata": {},
     "output_type": "display_data"
    }
   ],
   "source": [
    "# Plotting the MAE value during training\n",
    "plt.plot(hist.history[\"accuracy\"], label=\"accuracy\")\n",
    "plt.plot(hist.history[\"val_accuracy\"], label=\"val_accuracy\")\n",
    "plt.xlabel(\"epochs\")\n",
    "plt.ylabel(\"Accuracy\")\n",
    "plt.legend()\n",
    "plt.show()"
   ]
  },
  {
   "cell_type": "code",
   "execution_count": null,
   "id": "_YUW7fEBbGng",
   "metadata": {
    "id": "_YUW7fEBbGng"
   },
   "outputs": [],
   "source": []
  }
 ],
 "metadata": {
  "accelerator": "GPU",
  "colab": {
   "gpuType": "T4",
   "provenance": []
  },
  "kernelspec": {
   "display_name": "Python 3 (ipykernel)",
   "language": "python",
   "name": "python3"
  },
  "language_info": {
   "codemirror_mode": {
    "name": "ipython",
    "version": 3
   },
   "file_extension": ".py",
   "mimetype": "text/x-python",
   "name": "python",
   "nbconvert_exporter": "python",
   "pygments_lexer": "ipython3",
   "version": "3.11.5"
  }
 },
 "nbformat": 4,
 "nbformat_minor": 5
}
